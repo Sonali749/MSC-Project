{
  "nbformat": 4,
  "nbformat_minor": 0,
  "metadata": {
    "colab": {
      "name": "Algorithm.ipynb",
      "provenance": [],
      "collapsed_sections": [],
      "authorship_tag": "ABX9TyM9ivThZip2XaxOpB9YZqYi",
      "include_colab_link": true
    },
    "kernelspec": {
      "name": "python3",
      "display_name": "Python 3"
    },
    "language_info": {
      "name": "python"
    }
  },
  "cells": [
    {
      "cell_type": "markdown",
      "metadata": {
        "id": "view-in-github",
        "colab_type": "text"
      },
      "source": [
        "<a href=\"https://colab.research.google.com/github/Sonali749/MSC-Project/blob/main/Algorithm.ipynb\" target=\"_parent\"><img src=\"https://colab.research.google.com/assets/colab-badge.svg\" alt=\"Open In Colab\"/></a>"
      ]
    },
    {
      "cell_type": "code",
      "metadata": {
        "id": "LsyW0XFgnxFw",
        "colab": {
          "base_uri": "https://localhost:8080/"
        },
        "outputId": "a2e46d4e-a50c-48e7-de7b-b3aba6a422a3"
      },
      "source": [
        "import numpy as np\n",
        "import pandas as pd\n",
        "from sklearn.preprocessing import LabelEncoder\n",
        "from sklearn.linear_model import LinearRegression\n",
        "num=LabelEncoder()\n",
        "from sklearn import metrics\n",
        "from sklearn.metrics import classification_report, confusion_matrix, accuracy_score\n",
        "from sklearn.ensemble import RandomForestClassifier\n",
        "from sklearn import preprocessing\n",
        "from sklearn import utils\n",
        "from sklearn.svm import SVR\n",
        "\n",
        "#importing libraries\n",
        "import seaborn as sns\n",
        "from sklearn import tree\n",
        "from sklearn.model_selection import train_test_split\n",
        "from sklearn.tree import DecisionTreeClassifier\n",
        "import graphviz\n",
        "from sklearn.tree import export_graphviz\n",
        "from sklearn.metrics import classification_report, confusion_matrix\n",
        "%matplotlib inline\n",
        "print(\"Libraries Loaded\")\n"
      ],
      "execution_count": 1,
      "outputs": [
        {
          "output_type": "stream",
          "text": [
            "Libraries Loaded\n"
          ],
          "name": "stdout"
        }
      ]
    },
    {
      "cell_type": "code",
      "metadata": {
        "id": "s3kDlPNLoKuK"
      },
      "source": [
        "df1 = pd.read_csv('/content/Unemployment_Rate_upto_11_2020.csv')"
      ],
      "execution_count": 2,
      "outputs": []
    },
    {
      "cell_type": "code",
      "metadata": {
        "colab": {
          "base_uri": "https://localhost:8080/",
          "height": 363
        },
        "id": "H8Tle-b7oW18",
        "outputId": "17fa0174-52bd-483a-bca6-3ae8ca7b86ac"
      },
      "source": [
        "df1.head()\n"
      ],
      "execution_count": 3,
      "outputs": [
        {
          "output_type": "execute_result",
          "data": {
            "text/html": [
              "<div>\n",
              "<style scoped>\n",
              "    .dataframe tbody tr th:only-of-type {\n",
              "        vertical-align: middle;\n",
              "    }\n",
              "\n",
              "    .dataframe tbody tr th {\n",
              "        vertical-align: top;\n",
              "    }\n",
              "\n",
              "    .dataframe thead th {\n",
              "        text-align: right;\n",
              "    }\n",
              "</style>\n",
              "<table border=\"1\" class=\"dataframe\">\n",
              "  <thead>\n",
              "    <tr style=\"text-align: right;\">\n",
              "      <th></th>\n",
              "      <th>Region</th>\n",
              "      <th>Date</th>\n",
              "      <th>Frequency</th>\n",
              "      <th>Estimated_Unemployment_Rate</th>\n",
              "      <th>Estimated_Employed</th>\n",
              "      <th>Estimated_Labour_Participation_Rate</th>\n",
              "      <th>Region.1</th>\n",
              "      <th>longitude</th>\n",
              "      <th>latitude</th>\n",
              "    </tr>\n",
              "  </thead>\n",
              "  <tbody>\n",
              "    <tr>\n",
              "      <th>0</th>\n",
              "      <td>Andhra Pradesh</td>\n",
              "      <td>31-03-2020</td>\n",
              "      <td>M</td>\n",
              "      <td>5.48</td>\n",
              "      <td>16635535</td>\n",
              "      <td>41.02</td>\n",
              "      <td>South</td>\n",
              "      <td>15.9129</td>\n",
              "      <td>79.74</td>\n",
              "    </tr>\n",
              "    <tr>\n",
              "      <th>1</th>\n",
              "      <td>Andhra Pradesh</td>\n",
              "      <td>29-03-2020</td>\n",
              "      <td>M</td>\n",
              "      <td>5.83</td>\n",
              "      <td>16545652</td>\n",
              "      <td>40.90</td>\n",
              "      <td>South</td>\n",
              "      <td>15.9129</td>\n",
              "      <td>79.74</td>\n",
              "    </tr>\n",
              "    <tr>\n",
              "      <th>2</th>\n",
              "      <td>Andhra Pradesh</td>\n",
              "      <td>31-03-2020</td>\n",
              "      <td>M</td>\n",
              "      <td>5.79</td>\n",
              "      <td>15881197</td>\n",
              "      <td>39.18</td>\n",
              "      <td>South</td>\n",
              "      <td>15.9129</td>\n",
              "      <td>79.74</td>\n",
              "    </tr>\n",
              "    <tr>\n",
              "      <th>3</th>\n",
              "      <td>Andhra Pradesh</td>\n",
              "      <td>30-04-2020</td>\n",
              "      <td>M</td>\n",
              "      <td>20.51</td>\n",
              "      <td>11336911</td>\n",
              "      <td>33.10</td>\n",
              "      <td>South</td>\n",
              "      <td>15.9129</td>\n",
              "      <td>79.74</td>\n",
              "    </tr>\n",
              "    <tr>\n",
              "      <th>4</th>\n",
              "      <td>Andhra Pradesh</td>\n",
              "      <td>31-05-2020</td>\n",
              "      <td>M</td>\n",
              "      <td>17.43</td>\n",
              "      <td>12988845</td>\n",
              "      <td>36.46</td>\n",
              "      <td>South</td>\n",
              "      <td>15.9129</td>\n",
              "      <td>79.74</td>\n",
              "    </tr>\n",
              "  </tbody>\n",
              "</table>\n",
              "</div>"
            ],
            "text/plain": [
              "           Region         Date  Frequency  ...  Region.1  longitude  latitude\n",
              "0  Andhra Pradesh   31-03-2020          M  ...     South    15.9129     79.74\n",
              "1  Andhra Pradesh   29-03-2020          M  ...     South    15.9129     79.74\n",
              "2  Andhra Pradesh   31-03-2020          M  ...     South    15.9129     79.74\n",
              "3  Andhra Pradesh   30-04-2020          M  ...     South    15.9129     79.74\n",
              "4  Andhra Pradesh   31-05-2020          M  ...     South    15.9129     79.74\n",
              "\n",
              "[5 rows x 9 columns]"
            ]
          },
          "metadata": {
            "tags": []
          },
          "execution_count": 3
        }
      ]
    },
    {
      "cell_type": "code",
      "metadata": {
        "colab": {
          "base_uri": "https://localhost:8080/",
          "height": 383
        },
        "id": "7jONPjISoe18",
        "outputId": "047eda55-704e-49f3-cd42-2ce0982407b9"
      },
      "source": [
        "df1.tail()"
      ],
      "execution_count": 4,
      "outputs": [
        {
          "output_type": "execute_result",
          "data": {
            "text/html": [
              "<div>\n",
              "<style scoped>\n",
              "    .dataframe tbody tr th:only-of-type {\n",
              "        vertical-align: middle;\n",
              "    }\n",
              "\n",
              "    .dataframe tbody tr th {\n",
              "        vertical-align: top;\n",
              "    }\n",
              "\n",
              "    .dataframe thead th {\n",
              "        text-align: right;\n",
              "    }\n",
              "</style>\n",
              "<table border=\"1\" class=\"dataframe\">\n",
              "  <thead>\n",
              "    <tr style=\"text-align: right;\">\n",
              "      <th></th>\n",
              "      <th>Region</th>\n",
              "      <th>Date</th>\n",
              "      <th>Frequency</th>\n",
              "      <th>Estimated_Unemployment_Rate</th>\n",
              "      <th>Estimated_Employed</th>\n",
              "      <th>Estimated_Labour_Participation_Rate</th>\n",
              "      <th>Region.1</th>\n",
              "      <th>longitude</th>\n",
              "      <th>latitude</th>\n",
              "    </tr>\n",
              "  </thead>\n",
              "  <tbody>\n",
              "    <tr>\n",
              "      <th>262</th>\n",
              "      <td>West Bengal</td>\n",
              "      <td>30-06-2020</td>\n",
              "      <td>M</td>\n",
              "      <td>7.29</td>\n",
              "      <td>30726310</td>\n",
              "      <td>40.39</td>\n",
              "      <td>East</td>\n",
              "      <td>22.9868</td>\n",
              "      <td>87.855</td>\n",
              "    </tr>\n",
              "    <tr>\n",
              "      <th>263</th>\n",
              "      <td>West Bengal</td>\n",
              "      <td>31-07-2020</td>\n",
              "      <td>M</td>\n",
              "      <td>6.83</td>\n",
              "      <td>35372506</td>\n",
              "      <td>46.17</td>\n",
              "      <td>East</td>\n",
              "      <td>22.9868</td>\n",
              "      <td>87.855</td>\n",
              "    </tr>\n",
              "    <tr>\n",
              "      <th>264</th>\n",
              "      <td>West Bengal</td>\n",
              "      <td>31-08-2020</td>\n",
              "      <td>M</td>\n",
              "      <td>14.87</td>\n",
              "      <td>33298644</td>\n",
              "      <td>47.48</td>\n",
              "      <td>East</td>\n",
              "      <td>22.9868</td>\n",
              "      <td>87.855</td>\n",
              "    </tr>\n",
              "    <tr>\n",
              "      <th>265</th>\n",
              "      <td>West Bengal</td>\n",
              "      <td>30-09-2020</td>\n",
              "      <td>M</td>\n",
              "      <td>9.35</td>\n",
              "      <td>35707239</td>\n",
              "      <td>47.73</td>\n",
              "      <td>East</td>\n",
              "      <td>22.9868</td>\n",
              "      <td>87.855</td>\n",
              "    </tr>\n",
              "    <tr>\n",
              "      <th>266</th>\n",
              "      <td>West Bengal</td>\n",
              "      <td>31-10-2020</td>\n",
              "      <td>M</td>\n",
              "      <td>9.98</td>\n",
              "      <td>33962549</td>\n",
              "      <td>45.63</td>\n",
              "      <td>East</td>\n",
              "      <td>22.9868</td>\n",
              "      <td>87.855</td>\n",
              "    </tr>\n",
              "  </tbody>\n",
              "</table>\n",
              "</div>"
            ],
            "text/plain": [
              "          Region         Date  Frequency  ...  Region.1  longitude  latitude\n",
              "262  West Bengal   30-06-2020          M  ...      East    22.9868    87.855\n",
              "263  West Bengal   31-07-2020          M  ...      East    22.9868    87.855\n",
              "264  West Bengal   31-08-2020          M  ...      East    22.9868    87.855\n",
              "265  West Bengal   30-09-2020          M  ...      East    22.9868    87.855\n",
              "266  West Bengal   31-10-2020          M  ...      East    22.9868    87.855\n",
              "\n",
              "[5 rows x 9 columns]"
            ]
          },
          "metadata": {
            "tags": []
          },
          "execution_count": 4
        }
      ]
    },
    {
      "cell_type": "code",
      "metadata": {
        "colab": {
          "base_uri": "https://localhost:8080/"
        },
        "id": "sediILy1ps1e",
        "outputId": "fc7e687f-2678-4f8f-ef8a-d5502a0f4d80"
      },
      "source": [
        "df1.info()"
      ],
      "execution_count": 5,
      "outputs": [
        {
          "output_type": "stream",
          "text": [
            "<class 'pandas.core.frame.DataFrame'>\n",
            "RangeIndex: 267 entries, 0 to 266\n",
            "Data columns (total 9 columns):\n",
            " #   Column                                Non-Null Count  Dtype  \n",
            "---  ------                                --------------  -----  \n",
            " 0   Region                                267 non-null    object \n",
            " 1    Date                                 267 non-null    object \n",
            " 2    Frequency                            267 non-null    object \n",
            " 3    Estimated_Unemployment_Rate          267 non-null    float64\n",
            " 4    Estimated_Employed                   267 non-null    int64  \n",
            " 5    Estimated_Labour_Participation_Rate  267 non-null    float64\n",
            " 6   Region.1                              267 non-null    object \n",
            " 7   longitude                             267 non-null    float64\n",
            " 8   latitude                              267 non-null    float64\n",
            "dtypes: float64(4), int64(1), object(4)\n",
            "memory usage: 18.9+ KB\n"
          ],
          "name": "stdout"
        }
      ]
    },
    {
      "cell_type": "code",
      "metadata": {
        "id": "9Dp1rP-l2PXd"
      },
      "source": [
        "df1.dropna(inplace=True)"
      ],
      "execution_count": 6,
      "outputs": []
    },
    {
      "cell_type": "code",
      "metadata": {
        "colab": {
          "base_uri": "https://localhost:8080/"
        },
        "id": "jL5nDNrp3Jix",
        "outputId": "f5f1492e-9446-45c5-a186-3a16f0a21e92"
      },
      "source": [
        "df1.isnull().sum()"
      ],
      "execution_count": 7,
      "outputs": [
        {
          "output_type": "execute_result",
          "data": {
            "text/plain": [
              "Region                                  0\n",
              " Date                                   0\n",
              " Frequency                              0\n",
              " Estimated_Unemployment_Rate            0\n",
              " Estimated_Employed                     0\n",
              " Estimated_Labour_Participation_Rate    0\n",
              "Region.1                                0\n",
              "longitude                               0\n",
              "latitude                                0\n",
              "dtype: int64"
            ]
          },
          "metadata": {
            "tags": []
          },
          "execution_count": 7
        }
      ]
    },
    {
      "cell_type": "code",
      "metadata": {
        "id": "HQVoFk7Xquhn"
      },
      "source": [
        "df1.columns =['Region','Date','Frequency','Estimated_Unemployment_Rate','Estimated_Employed','Estimated_Labour_Participation_Rate','Region.1','longitude','latitude']\n"
      ],
      "execution_count": 15,
      "outputs": []
    },
    {
      "cell_type": "code",
      "metadata": {
        "id": "mhe9GKEoFqEz"
      },
      "source": [
        "df1['Region']=num.fit_transform(df1['Region']).astype('int')"
      ],
      "execution_count": 16,
      "outputs": []
    },
    {
      "cell_type": "code",
      "metadata": {
        "id": "UIJCpHsEF5xE"
      },
      "source": [
        "df1['Frequency']=num.fit_transform(df1['Frequency']).astype('int')"
      ],
      "execution_count": 17,
      "outputs": []
    },
    {
      "cell_type": "code",
      "metadata": {
        "id": "2xZ1MLBB45yw"
      },
      "source": [
        "df1['Date']=num.fit_transform(df1['Date']).astype('int')"
      ],
      "execution_count": 18,
      "outputs": []
    },
    {
      "cell_type": "code",
      "metadata": {
        "id": "EOwvNpmfZrC5"
      },
      "source": [
        "df1['Region.1']=num.fit_transform(df1['Region.1']).astype('int')\n",
        "#df1['longitude']=num.fit_transform(df1['longitude']).astype('int')\n",
        "#df1['latitude']=num.fit_transform(df1['latitude']).astype('int')"
      ],
      "execution_count": 19,
      "outputs": []
    },
    {
      "cell_type": "code",
      "metadata": {
        "id": "fzf4SUIxGJAz",
        "colab": {
          "base_uri": "https://localhost:8080/",
          "height": 422
        },
        "outputId": "9d8e0670-1d18-4087-f773-35d26dbef598"
      },
      "source": [
        "df1"
      ],
      "execution_count": 20,
      "outputs": [
        {
          "output_type": "execute_result",
          "data": {
            "text/html": [
              "<div>\n",
              "<style scoped>\n",
              "    .dataframe tbody tr th:only-of-type {\n",
              "        vertical-align: middle;\n",
              "    }\n",
              "\n",
              "    .dataframe tbody tr th {\n",
              "        vertical-align: top;\n",
              "    }\n",
              "\n",
              "    .dataframe thead th {\n",
              "        text-align: right;\n",
              "    }\n",
              "</style>\n",
              "<table border=\"1\" class=\"dataframe\">\n",
              "  <thead>\n",
              "    <tr style=\"text-align: right;\">\n",
              "      <th></th>\n",
              "      <th>Region</th>\n",
              "      <th>Date</th>\n",
              "      <th>Frequency</th>\n",
              "      <th>Estimated_Unemployment_Rate</th>\n",
              "      <th>Estimated_Employed</th>\n",
              "      <th>Estimated_Labour_Participation_Rate</th>\n",
              "      <th>Region.1</th>\n",
              "      <th>longitude</th>\n",
              "      <th>latitude</th>\n",
              "    </tr>\n",
              "  </thead>\n",
              "  <tbody>\n",
              "    <tr>\n",
              "      <th>0</th>\n",
              "      <td>0</td>\n",
              "      <td>6</td>\n",
              "      <td>0</td>\n",
              "      <td>5.48</td>\n",
              "      <td>16635535</td>\n",
              "      <td>41.02</td>\n",
              "      <td>3</td>\n",
              "      <td>15.9129</td>\n",
              "      <td>79.740</td>\n",
              "    </tr>\n",
              "    <tr>\n",
              "      <th>1</th>\n",
              "      <td>0</td>\n",
              "      <td>1</td>\n",
              "      <td>0</td>\n",
              "      <td>5.83</td>\n",
              "      <td>16545652</td>\n",
              "      <td>40.90</td>\n",
              "      <td>3</td>\n",
              "      <td>15.9129</td>\n",
              "      <td>79.740</td>\n",
              "    </tr>\n",
              "    <tr>\n",
              "      <th>2</th>\n",
              "      <td>0</td>\n",
              "      <td>6</td>\n",
              "      <td>0</td>\n",
              "      <td>5.79</td>\n",
              "      <td>15881197</td>\n",
              "      <td>39.18</td>\n",
              "      <td>3</td>\n",
              "      <td>15.9129</td>\n",
              "      <td>79.740</td>\n",
              "    </tr>\n",
              "    <tr>\n",
              "      <th>3</th>\n",
              "      <td>0</td>\n",
              "      <td>2</td>\n",
              "      <td>0</td>\n",
              "      <td>20.51</td>\n",
              "      <td>11336911</td>\n",
              "      <td>33.10</td>\n",
              "      <td>3</td>\n",
              "      <td>15.9129</td>\n",
              "      <td>79.740</td>\n",
              "    </tr>\n",
              "    <tr>\n",
              "      <th>4</th>\n",
              "      <td>0</td>\n",
              "      <td>7</td>\n",
              "      <td>0</td>\n",
              "      <td>17.43</td>\n",
              "      <td>12988845</td>\n",
              "      <td>36.46</td>\n",
              "      <td>3</td>\n",
              "      <td>15.9129</td>\n",
              "      <td>79.740</td>\n",
              "    </tr>\n",
              "    <tr>\n",
              "      <th>...</th>\n",
              "      <td>...</td>\n",
              "      <td>...</td>\n",
              "      <td>...</td>\n",
              "      <td>...</td>\n",
              "      <td>...</td>\n",
              "      <td>...</td>\n",
              "      <td>...</td>\n",
              "      <td>...</td>\n",
              "      <td>...</td>\n",
              "    </tr>\n",
              "    <tr>\n",
              "      <th>262</th>\n",
              "      <td>26</td>\n",
              "      <td>3</td>\n",
              "      <td>0</td>\n",
              "      <td>7.29</td>\n",
              "      <td>30726310</td>\n",
              "      <td>40.39</td>\n",
              "      <td>0</td>\n",
              "      <td>22.9868</td>\n",
              "      <td>87.855</td>\n",
              "    </tr>\n",
              "    <tr>\n",
              "      <th>263</th>\n",
              "      <td>26</td>\n",
              "      <td>8</td>\n",
              "      <td>0</td>\n",
              "      <td>6.83</td>\n",
              "      <td>35372506</td>\n",
              "      <td>46.17</td>\n",
              "      <td>0</td>\n",
              "      <td>22.9868</td>\n",
              "      <td>87.855</td>\n",
              "    </tr>\n",
              "    <tr>\n",
              "      <th>264</th>\n",
              "      <td>26</td>\n",
              "      <td>9</td>\n",
              "      <td>0</td>\n",
              "      <td>14.87</td>\n",
              "      <td>33298644</td>\n",
              "      <td>47.48</td>\n",
              "      <td>0</td>\n",
              "      <td>22.9868</td>\n",
              "      <td>87.855</td>\n",
              "    </tr>\n",
              "    <tr>\n",
              "      <th>265</th>\n",
              "      <td>26</td>\n",
              "      <td>4</td>\n",
              "      <td>0</td>\n",
              "      <td>9.35</td>\n",
              "      <td>35707239</td>\n",
              "      <td>47.73</td>\n",
              "      <td>0</td>\n",
              "      <td>22.9868</td>\n",
              "      <td>87.855</td>\n",
              "    </tr>\n",
              "    <tr>\n",
              "      <th>266</th>\n",
              "      <td>26</td>\n",
              "      <td>10</td>\n",
              "      <td>0</td>\n",
              "      <td>9.98</td>\n",
              "      <td>33962549</td>\n",
              "      <td>45.63</td>\n",
              "      <td>0</td>\n",
              "      <td>22.9868</td>\n",
              "      <td>87.855</td>\n",
              "    </tr>\n",
              "  </tbody>\n",
              "</table>\n",
              "<p>267 rows × 9 columns</p>\n",
              "</div>"
            ],
            "text/plain": [
              "     Region  Date  Frequency  ...  Region.1  longitude  latitude\n",
              "0         0     6          0  ...         3    15.9129    79.740\n",
              "1         0     1          0  ...         3    15.9129    79.740\n",
              "2         0     6          0  ...         3    15.9129    79.740\n",
              "3         0     2          0  ...         3    15.9129    79.740\n",
              "4         0     7          0  ...         3    15.9129    79.740\n",
              "..      ...   ...        ...  ...       ...        ...       ...\n",
              "262      26     3          0  ...         0    22.9868    87.855\n",
              "263      26     8          0  ...         0    22.9868    87.855\n",
              "264      26     9          0  ...         0    22.9868    87.855\n",
              "265      26     4          0  ...         0    22.9868    87.855\n",
              "266      26    10          0  ...         0    22.9868    87.855\n",
              "\n",
              "[267 rows x 9 columns]"
            ]
          },
          "metadata": {
            "tags": []
          },
          "execution_count": 20
        }
      ]
    },
    {
      "cell_type": "code",
      "metadata": {
        "colab": {
          "base_uri": "https://localhost:8080/",
          "height": 422
        },
        "id": "u_X31KYLv19x",
        "outputId": "03d88a74-a610-41ac-a703-c525709d9128"
      },
      "source": [
        "df1.astype(int)"
      ],
      "execution_count": 21,
      "outputs": [
        {
          "output_type": "execute_result",
          "data": {
            "text/html": [
              "<div>\n",
              "<style scoped>\n",
              "    .dataframe tbody tr th:only-of-type {\n",
              "        vertical-align: middle;\n",
              "    }\n",
              "\n",
              "    .dataframe tbody tr th {\n",
              "        vertical-align: top;\n",
              "    }\n",
              "\n",
              "    .dataframe thead th {\n",
              "        text-align: right;\n",
              "    }\n",
              "</style>\n",
              "<table border=\"1\" class=\"dataframe\">\n",
              "  <thead>\n",
              "    <tr style=\"text-align: right;\">\n",
              "      <th></th>\n",
              "      <th>Region</th>\n",
              "      <th>Date</th>\n",
              "      <th>Frequency</th>\n",
              "      <th>Estimated_Unemployment_Rate</th>\n",
              "      <th>Estimated_Employed</th>\n",
              "      <th>Estimated_Labour_Participation_Rate</th>\n",
              "      <th>Region.1</th>\n",
              "      <th>longitude</th>\n",
              "      <th>latitude</th>\n",
              "    </tr>\n",
              "  </thead>\n",
              "  <tbody>\n",
              "    <tr>\n",
              "      <th>0</th>\n",
              "      <td>0</td>\n",
              "      <td>6</td>\n",
              "      <td>0</td>\n",
              "      <td>5</td>\n",
              "      <td>16635535</td>\n",
              "      <td>41</td>\n",
              "      <td>3</td>\n",
              "      <td>15</td>\n",
              "      <td>79</td>\n",
              "    </tr>\n",
              "    <tr>\n",
              "      <th>1</th>\n",
              "      <td>0</td>\n",
              "      <td>1</td>\n",
              "      <td>0</td>\n",
              "      <td>5</td>\n",
              "      <td>16545652</td>\n",
              "      <td>40</td>\n",
              "      <td>3</td>\n",
              "      <td>15</td>\n",
              "      <td>79</td>\n",
              "    </tr>\n",
              "    <tr>\n",
              "      <th>2</th>\n",
              "      <td>0</td>\n",
              "      <td>6</td>\n",
              "      <td>0</td>\n",
              "      <td>5</td>\n",
              "      <td>15881197</td>\n",
              "      <td>39</td>\n",
              "      <td>3</td>\n",
              "      <td>15</td>\n",
              "      <td>79</td>\n",
              "    </tr>\n",
              "    <tr>\n",
              "      <th>3</th>\n",
              "      <td>0</td>\n",
              "      <td>2</td>\n",
              "      <td>0</td>\n",
              "      <td>20</td>\n",
              "      <td>11336911</td>\n",
              "      <td>33</td>\n",
              "      <td>3</td>\n",
              "      <td>15</td>\n",
              "      <td>79</td>\n",
              "    </tr>\n",
              "    <tr>\n",
              "      <th>4</th>\n",
              "      <td>0</td>\n",
              "      <td>7</td>\n",
              "      <td>0</td>\n",
              "      <td>17</td>\n",
              "      <td>12988845</td>\n",
              "      <td>36</td>\n",
              "      <td>3</td>\n",
              "      <td>15</td>\n",
              "      <td>79</td>\n",
              "    </tr>\n",
              "    <tr>\n",
              "      <th>...</th>\n",
              "      <td>...</td>\n",
              "      <td>...</td>\n",
              "      <td>...</td>\n",
              "      <td>...</td>\n",
              "      <td>...</td>\n",
              "      <td>...</td>\n",
              "      <td>...</td>\n",
              "      <td>...</td>\n",
              "      <td>...</td>\n",
              "    </tr>\n",
              "    <tr>\n",
              "      <th>262</th>\n",
              "      <td>26</td>\n",
              "      <td>3</td>\n",
              "      <td>0</td>\n",
              "      <td>7</td>\n",
              "      <td>30726310</td>\n",
              "      <td>40</td>\n",
              "      <td>0</td>\n",
              "      <td>22</td>\n",
              "      <td>87</td>\n",
              "    </tr>\n",
              "    <tr>\n",
              "      <th>263</th>\n",
              "      <td>26</td>\n",
              "      <td>8</td>\n",
              "      <td>0</td>\n",
              "      <td>6</td>\n",
              "      <td>35372506</td>\n",
              "      <td>46</td>\n",
              "      <td>0</td>\n",
              "      <td>22</td>\n",
              "      <td>87</td>\n",
              "    </tr>\n",
              "    <tr>\n",
              "      <th>264</th>\n",
              "      <td>26</td>\n",
              "      <td>9</td>\n",
              "      <td>0</td>\n",
              "      <td>14</td>\n",
              "      <td>33298644</td>\n",
              "      <td>47</td>\n",
              "      <td>0</td>\n",
              "      <td>22</td>\n",
              "      <td>87</td>\n",
              "    </tr>\n",
              "    <tr>\n",
              "      <th>265</th>\n",
              "      <td>26</td>\n",
              "      <td>4</td>\n",
              "      <td>0</td>\n",
              "      <td>9</td>\n",
              "      <td>35707239</td>\n",
              "      <td>47</td>\n",
              "      <td>0</td>\n",
              "      <td>22</td>\n",
              "      <td>87</td>\n",
              "    </tr>\n",
              "    <tr>\n",
              "      <th>266</th>\n",
              "      <td>26</td>\n",
              "      <td>10</td>\n",
              "      <td>0</td>\n",
              "      <td>9</td>\n",
              "      <td>33962549</td>\n",
              "      <td>45</td>\n",
              "      <td>0</td>\n",
              "      <td>22</td>\n",
              "      <td>87</td>\n",
              "    </tr>\n",
              "  </tbody>\n",
              "</table>\n",
              "<p>267 rows × 9 columns</p>\n",
              "</div>"
            ],
            "text/plain": [
              "     Region  Date  Frequency  ...  Region.1  longitude  latitude\n",
              "0         0     6          0  ...         3         15        79\n",
              "1         0     1          0  ...         3         15        79\n",
              "2         0     6          0  ...         3         15        79\n",
              "3         0     2          0  ...         3         15        79\n",
              "4         0     7          0  ...         3         15        79\n",
              "..      ...   ...        ...  ...       ...        ...       ...\n",
              "262      26     3          0  ...         0         22        87\n",
              "263      26     8          0  ...         0         22        87\n",
              "264      26     9          0  ...         0         22        87\n",
              "265      26     4          0  ...         0         22        87\n",
              "266      26    10          0  ...         0         22        87\n",
              "\n",
              "[267 rows x 9 columns]"
            ]
          },
          "metadata": {
            "tags": []
          },
          "execution_count": 21
        }
      ]
    },
    {
      "cell_type": "code",
      "metadata": {
        "id": "kRtdw36jxJOW"
      },
      "source": [
        "df2=df1.round(0).astype(int)"
      ],
      "execution_count": 22,
      "outputs": []
    },
    {
      "cell_type": "code",
      "metadata": {
        "colab": {
          "base_uri": "https://localhost:8080/",
          "height": 422
        },
        "id": "sLYPnjXqfgVi",
        "outputId": "dabbbb55-302f-4359-f34a-bc8774a72187"
      },
      "source": [
        "df2"
      ],
      "execution_count": 23,
      "outputs": [
        {
          "output_type": "execute_result",
          "data": {
            "text/html": [
              "<div>\n",
              "<style scoped>\n",
              "    .dataframe tbody tr th:only-of-type {\n",
              "        vertical-align: middle;\n",
              "    }\n",
              "\n",
              "    .dataframe tbody tr th {\n",
              "        vertical-align: top;\n",
              "    }\n",
              "\n",
              "    .dataframe thead th {\n",
              "        text-align: right;\n",
              "    }\n",
              "</style>\n",
              "<table border=\"1\" class=\"dataframe\">\n",
              "  <thead>\n",
              "    <tr style=\"text-align: right;\">\n",
              "      <th></th>\n",
              "      <th>Region</th>\n",
              "      <th>Date</th>\n",
              "      <th>Frequency</th>\n",
              "      <th>Estimated_Unemployment_Rate</th>\n",
              "      <th>Estimated_Employed</th>\n",
              "      <th>Estimated_Labour_Participation_Rate</th>\n",
              "      <th>Region.1</th>\n",
              "      <th>longitude</th>\n",
              "      <th>latitude</th>\n",
              "    </tr>\n",
              "  </thead>\n",
              "  <tbody>\n",
              "    <tr>\n",
              "      <th>0</th>\n",
              "      <td>0</td>\n",
              "      <td>6</td>\n",
              "      <td>0</td>\n",
              "      <td>5</td>\n",
              "      <td>16635535</td>\n",
              "      <td>41</td>\n",
              "      <td>3</td>\n",
              "      <td>16</td>\n",
              "      <td>80</td>\n",
              "    </tr>\n",
              "    <tr>\n",
              "      <th>1</th>\n",
              "      <td>0</td>\n",
              "      <td>1</td>\n",
              "      <td>0</td>\n",
              "      <td>6</td>\n",
              "      <td>16545652</td>\n",
              "      <td>41</td>\n",
              "      <td>3</td>\n",
              "      <td>16</td>\n",
              "      <td>80</td>\n",
              "    </tr>\n",
              "    <tr>\n",
              "      <th>2</th>\n",
              "      <td>0</td>\n",
              "      <td>6</td>\n",
              "      <td>0</td>\n",
              "      <td>6</td>\n",
              "      <td>15881197</td>\n",
              "      <td>39</td>\n",
              "      <td>3</td>\n",
              "      <td>16</td>\n",
              "      <td>80</td>\n",
              "    </tr>\n",
              "    <tr>\n",
              "      <th>3</th>\n",
              "      <td>0</td>\n",
              "      <td>2</td>\n",
              "      <td>0</td>\n",
              "      <td>21</td>\n",
              "      <td>11336911</td>\n",
              "      <td>33</td>\n",
              "      <td>3</td>\n",
              "      <td>16</td>\n",
              "      <td>80</td>\n",
              "    </tr>\n",
              "    <tr>\n",
              "      <th>4</th>\n",
              "      <td>0</td>\n",
              "      <td>7</td>\n",
              "      <td>0</td>\n",
              "      <td>17</td>\n",
              "      <td>12988845</td>\n",
              "      <td>36</td>\n",
              "      <td>3</td>\n",
              "      <td>16</td>\n",
              "      <td>80</td>\n",
              "    </tr>\n",
              "    <tr>\n",
              "      <th>...</th>\n",
              "      <td>...</td>\n",
              "      <td>...</td>\n",
              "      <td>...</td>\n",
              "      <td>...</td>\n",
              "      <td>...</td>\n",
              "      <td>...</td>\n",
              "      <td>...</td>\n",
              "      <td>...</td>\n",
              "      <td>...</td>\n",
              "    </tr>\n",
              "    <tr>\n",
              "      <th>262</th>\n",
              "      <td>26</td>\n",
              "      <td>3</td>\n",
              "      <td>0</td>\n",
              "      <td>7</td>\n",
              "      <td>30726310</td>\n",
              "      <td>40</td>\n",
              "      <td>0</td>\n",
              "      <td>23</td>\n",
              "      <td>88</td>\n",
              "    </tr>\n",
              "    <tr>\n",
              "      <th>263</th>\n",
              "      <td>26</td>\n",
              "      <td>8</td>\n",
              "      <td>0</td>\n",
              "      <td>7</td>\n",
              "      <td>35372506</td>\n",
              "      <td>46</td>\n",
              "      <td>0</td>\n",
              "      <td>23</td>\n",
              "      <td>88</td>\n",
              "    </tr>\n",
              "    <tr>\n",
              "      <th>264</th>\n",
              "      <td>26</td>\n",
              "      <td>9</td>\n",
              "      <td>0</td>\n",
              "      <td>15</td>\n",
              "      <td>33298644</td>\n",
              "      <td>47</td>\n",
              "      <td>0</td>\n",
              "      <td>23</td>\n",
              "      <td>88</td>\n",
              "    </tr>\n",
              "    <tr>\n",
              "      <th>265</th>\n",
              "      <td>26</td>\n",
              "      <td>4</td>\n",
              "      <td>0</td>\n",
              "      <td>9</td>\n",
              "      <td>35707239</td>\n",
              "      <td>48</td>\n",
              "      <td>0</td>\n",
              "      <td>23</td>\n",
              "      <td>88</td>\n",
              "    </tr>\n",
              "    <tr>\n",
              "      <th>266</th>\n",
              "      <td>26</td>\n",
              "      <td>10</td>\n",
              "      <td>0</td>\n",
              "      <td>10</td>\n",
              "      <td>33962549</td>\n",
              "      <td>46</td>\n",
              "      <td>0</td>\n",
              "      <td>23</td>\n",
              "      <td>88</td>\n",
              "    </tr>\n",
              "  </tbody>\n",
              "</table>\n",
              "<p>267 rows × 9 columns</p>\n",
              "</div>"
            ],
            "text/plain": [
              "     Region  Date  Frequency  ...  Region.1  longitude  latitude\n",
              "0         0     6          0  ...         3         16        80\n",
              "1         0     1          0  ...         3         16        80\n",
              "2         0     6          0  ...         3         16        80\n",
              "3         0     2          0  ...         3         16        80\n",
              "4         0     7          0  ...         3         16        80\n",
              "..      ...   ...        ...  ...       ...        ...       ...\n",
              "262      26     3          0  ...         0         23        88\n",
              "263      26     8          0  ...         0         23        88\n",
              "264      26     9          0  ...         0         23        88\n",
              "265      26     4          0  ...         0         23        88\n",
              "266      26    10          0  ...         0         23        88\n",
              "\n",
              "[267 rows x 9 columns]"
            ]
          },
          "metadata": {
            "tags": []
          },
          "execution_count": 23
        }
      ]
    },
    {
      "cell_type": "code",
      "metadata": {
        "id": "n7E8PehF9YZn"
      },
      "source": [
        "from sklearn.linear_model import LogisticRegression\n",
        "from sklearn.metrics import accuracy_score\n",
        "from sklearn.model_selection import cross_val_score\n",
        "from sklearn.metrics import classification_report"
      ],
      "execution_count": 62,
      "outputs": []
    },
    {
      "cell_type": "code",
      "metadata": {
        "id": "hQqDBQzXaEuW"
      },
      "source": [
        "from sklearn.model_selection import train_test_split"
      ],
      "execution_count": 63,
      "outputs": []
    },
    {
      "cell_type": "code",
      "metadata": {
        "id": "mb8-PSHTpFBP"
      },
      "source": [
        "predictors = ['Estimated_Unemployment_Rate','Region']\n",
        "X = df2[predictors]\n",
        "y = df2['Estimated_Labour_Participation_Rate']"
      ],
      "execution_count": 89,
      "outputs": []
    },
    {
      "cell_type": "code",
      "metadata": {
        "id": "oH8Kzz7JaKl1"
      },
      "source": [
        "#X=df1.drop('Region', axis=1)\n",
        "#y=df1['Region']"
      ],
      "execution_count": null,
      "outputs": []
    },
    {
      "cell_type": "code",
      "metadata": {
        "id": "WzXv6eJWah9i"
      },
      "source": [
        "X_train, X_test, y_train, y_test = train_test_split(X, y, test_size=0.2, random_state=42)"
      ],
      "execution_count": 90,
      "outputs": []
    },
    {
      "cell_type": "code",
      "metadata": {
        "id": "MXI7mCbizb2w"
      },
      "source": [
        "#train, validation = train_test_split(df2, test_size=0.50, random_state = 5)"
      ],
      "execution_count": null,
      "outputs": []
    },
    {
      "cell_type": "code",
      "metadata": {
        "id": "_nCrcAOvamjr"
      },
      "source": [
        "from sklearn.tree import DecisionTreeClassifier"
      ],
      "execution_count": 91,
      "outputs": []
    },
    {
      "cell_type": "code",
      "metadata": {
        "id": "3-hq3JSvaupi"
      },
      "source": [
        "dct=DecisionTreeClassifier(random_state=42)"
      ],
      "execution_count": 92,
      "outputs": []
    },
    {
      "cell_type": "code",
      "metadata": {
        "colab": {
          "base_uri": "https://localhost:8080/"
        },
        "id": "klwOWwqDawjJ",
        "outputId": "29678dfb-db82-42b6-e9ee-8700a00d0b0a"
      },
      "source": [
        "dct.fit(X_train,y_train)"
      ],
      "execution_count": 93,
      "outputs": [
        {
          "output_type": "execute_result",
          "data": {
            "text/plain": [
              "DecisionTreeClassifier(ccp_alpha=0.0, class_weight=None, criterion='gini',\n",
              "                       max_depth=None, max_features=None, max_leaf_nodes=None,\n",
              "                       min_impurity_decrease=0.0, min_impurity_split=None,\n",
              "                       min_samples_leaf=1, min_samples_split=2,\n",
              "                       min_weight_fraction_leaf=0.0, presort='deprecated',\n",
              "                       random_state=42, splitter='best')"
            ]
          },
          "metadata": {
            "tags": []
          },
          "execution_count": 93
        }
      ]
    },
    {
      "cell_type": "code",
      "metadata": {
        "id": "Rsi0_61Za5Vd"
      },
      "source": [
        "y_predictions=dct.predict(X_test)"
      ],
      "execution_count": 94,
      "outputs": []
    },
    {
      "cell_type": "code",
      "metadata": {
        "id": "3qXQm56Ea72D"
      },
      "source": [
        "from sklearn.metrics import accuracy_score"
      ],
      "execution_count": 95,
      "outputs": []
    },
    {
      "cell_type": "code",
      "metadata": {
        "id": "SzWtkyx578Qz"
      },
      "source": [
        "#accuracy=accuracy_score(y_test.values,y_predictions.values)"
      ],
      "execution_count": null,
      "outputs": []
    },
    {
      "cell_type": "code",
      "metadata": {
        "colab": {
          "base_uri": "https://localhost:8080/"
        },
        "id": "T9bAzr1Wa_9Z",
        "outputId": "05665094-5963-4b47-9087-ff4c8b43b75a"
      },
      "source": [
        "accuracy_score(y_test,y_predictions)"
      ],
      "execution_count": 98,
      "outputs": [
        {
          "output_type": "execute_result",
          "data": {
            "text/plain": [
              "0.14814814814814814"
            ]
          },
          "metadata": {
            "tags": []
          },
          "execution_count": 98
        }
      ]
    },
    {
      "cell_type": "code",
      "metadata": {
        "id": "Pr8lyC0gcaUZ"
      },
      "source": [
        "from sklearn.ensemble import RandomForestClassifier"
      ],
      "execution_count": 99,
      "outputs": []
    },
    {
      "cell_type": "code",
      "metadata": {
        "id": "t8OWyF-TcjTf"
      },
      "source": [
        "rf=RandomForestClassifier(n_estimators=500)"
      ],
      "execution_count": 100,
      "outputs": []
    },
    {
      "cell_type": "code",
      "metadata": {
        "colab": {
          "base_uri": "https://localhost:8080/"
        },
        "id": "yV43fFCMcoiC",
        "outputId": "7d823860-c33a-4640-8279-2a5455f6e7de"
      },
      "source": [
        "rf.fit(X_train,y_train)"
      ],
      "execution_count": 101,
      "outputs": [
        {
          "output_type": "execute_result",
          "data": {
            "text/plain": [
              "RandomForestClassifier(bootstrap=True, ccp_alpha=0.0, class_weight=None,\n",
              "                       criterion='gini', max_depth=None, max_features='auto',\n",
              "                       max_leaf_nodes=None, max_samples=None,\n",
              "                       min_impurity_decrease=0.0, min_impurity_split=None,\n",
              "                       min_samples_leaf=1, min_samples_split=2,\n",
              "                       min_weight_fraction_leaf=0.0, n_estimators=500,\n",
              "                       n_jobs=None, oob_score=False, random_state=None,\n",
              "                       verbose=0, warm_start=False)"
            ]
          },
          "metadata": {
            "tags": []
          },
          "execution_count": 101
        }
      ]
    },
    {
      "cell_type": "code",
      "metadata": {
        "id": "sNFAaMqHcu1b"
      },
      "source": [
        "y_predictions=rf.predict(X_test)"
      ],
      "execution_count": 102,
      "outputs": []
    },
    {
      "cell_type": "code",
      "metadata": {
        "id": "BEeVyMuk8on9"
      },
      "source": [
        "#df2.fit(X_train,y_train.ravel())"
      ],
      "execution_count": 77,
      "outputs": []
    },
    {
      "cell_type": "code",
      "metadata": {
        "colab": {
          "base_uri": "https://localhost:8080/"
        },
        "id": "tjkvzASrc1U0",
        "outputId": "b695c862-bc97-41b3-9caf-20ef7f2bf65d"
      },
      "source": [
        "accuracy_score(y_test,y_predictions)"
      ],
      "execution_count": 103,
      "outputs": [
        {
          "output_type": "execute_result",
          "data": {
            "text/plain": [
              "0.14814814814814814"
            ]
          },
          "metadata": {
            "tags": []
          },
          "execution_count": 103
        }
      ]
    },
    {
      "cell_type": "code",
      "metadata": {
        "id": "Ikt-TO3xc6Re"
      },
      "source": [
        "from sklearn.linear_model import LogisticRegression"
      ],
      "execution_count": 104,
      "outputs": []
    },
    {
      "cell_type": "code",
      "metadata": {
        "id": "d_IIaE5kc-29"
      },
      "source": [
        "logr=LogisticRegression(C=0.01,max_iter=1000,random_state=42)"
      ],
      "execution_count": 105,
      "outputs": []
    },
    {
      "cell_type": "code",
      "metadata": {
        "colab": {
          "base_uri": "https://localhost:8080/"
        },
        "id": "O6RrVHbmdDqS",
        "outputId": "773c29e2-5cd4-4351-83e1-7263a87027c1"
      },
      "source": [
        "logr.fit(X_train,y_train)"
      ],
      "execution_count": 106,
      "outputs": [
        {
          "output_type": "execute_result",
          "data": {
            "text/plain": [
              "LogisticRegression(C=0.01, class_weight=None, dual=False, fit_intercept=True,\n",
              "                   intercept_scaling=1, l1_ratio=None, max_iter=1000,\n",
              "                   multi_class='auto', n_jobs=None, penalty='l2',\n",
              "                   random_state=42, solver='lbfgs', tol=0.0001, verbose=0,\n",
              "                   warm_start=False)"
            ]
          },
          "metadata": {
            "tags": []
          },
          "execution_count": 106
        }
      ]
    },
    {
      "cell_type": "code",
      "metadata": {
        "id": "xt9g3CB1dM8j"
      },
      "source": [
        "y_predictions=logr.predict(X_test)"
      ],
      "execution_count": 107,
      "outputs": []
    },
    {
      "cell_type": "code",
      "metadata": {
        "colab": {
          "base_uri": "https://localhost:8080/"
        },
        "id": "RUWF8NBxdSOp",
        "outputId": "c4bd10d8-40e3-4324-a35a-7cb2d3cb2ea6"
      },
      "source": [
        "print(accuracy_score(y_predictions,y_test))"
      ],
      "execution_count": 108,
      "outputs": [
        {
          "output_type": "stream",
          "text": [
            "0.07407407407407407\n"
          ],
          "name": "stdout"
        }
      ]
    },
    {
      "cell_type": "code",
      "metadata": {
        "id": "ubQJPoNuvPQA"
      },
      "source": [
        "from sklearn import svm"
      ],
      "execution_count": 109,
      "outputs": []
    },
    {
      "cell_type": "code",
      "metadata": {
        "id": "W5XdrXRVvY2U"
      },
      "source": [
        "svmf = svm.SVC(C=10000000, kernel='rbf', degree=3)"
      ],
      "execution_count": 110,
      "outputs": []
    },
    {
      "cell_type": "code",
      "metadata": {
        "id": "9AIgHSdNvc2r"
      },
      "source": [
        "model_svm = svmf.fit(X_train, y_train)"
      ],
      "execution_count": 111,
      "outputs": []
    },
    {
      "cell_type": "code",
      "metadata": {
        "id": "GjfgxN7Pvwh2"
      },
      "source": [
        "pred_svm = model_svm.predict(X_test)"
      ],
      "execution_count": 112,
      "outputs": []
    },
    {
      "cell_type": "code",
      "metadata": {
        "colab": {
          "base_uri": "https://localhost:8080/"
        },
        "id": "4nYVI8FRvzN-",
        "outputId": "c41b2fd5-d798-4329-f948-428589a4ad34"
      },
      "source": [
        "wyp_test_score_svm = accuracy_score(y_test, pred_svm)*100\n",
        "wyp_test_score_svm"
      ],
      "execution_count": 114,
      "outputs": [
        {
          "output_type": "execute_result",
          "data": {
            "text/plain": [
              "74.07407407407408"
            ]
          },
          "metadata": {
            "tags": []
          },
          "execution_count": 114
        }
      ]
    }
  ]
}