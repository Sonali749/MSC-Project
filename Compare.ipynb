{
  "nbformat": 4,
  "nbformat_minor": 0,
  "metadata": {
    "colab": {
      "name": "Compare.ipynb",
      "provenance": [],
      "collapsed_sections": [],
      "authorship_tag": "ABX9TyPe7/BqUPKTtq7oWhKFU12Y",
      "include_colab_link": true
    },
    "kernelspec": {
      "name": "python3",
      "display_name": "Python 3"
    },
    "language_info": {
      "name": "python"
    }
  },
  "cells": [
    {
      "cell_type": "markdown",
      "metadata": {
        "id": "view-in-github",
        "colab_type": "text"
      },
      "source": [
        "<a href=\"https://colab.research.google.com/github/Sonali749/MSC-Project/blob/main/Compare.ipynb\" target=\"_parent\"><img src=\"https://colab.research.google.com/assets/colab-badge.svg\" alt=\"Open In Colab\"/></a>"
      ]
    },
    {
      "cell_type": "code",
      "metadata": {
        "id": "TfuoekUxH7ob"
      },
      "source": [
        "import numpy as np\n",
        "import pandas as pd\n",
        "import matplotlib.pyplot as plt\n",
        "import seaborn as sns\n",
        "import calendar\n",
        "from sklearn.preprocessing import LabelEncoder\n",
        "from sklearn.linear_model import LinearRegression\n",
        "num=LabelEncoder()\n",
        "from sklearn import metrics\n",
        "from sklearn.metrics import classification_report, confusion_matrix, accuracy_score\n",
        "from sklearn.ensemble import RandomForestClassifier"
      ],
      "execution_count": null,
      "outputs": []
    },
    {
      "cell_type": "code",
      "metadata": {
        "id": "C6UzMrvqIYDy"
      },
      "source": [
        "import plotly.express as px\n",
        "import plotly.graph_objects as go\n",
        "import plotly.figure_factory as ff\n",
        "from IPython.display import HTML"
      ],
      "execution_count": null,
      "outputs": []
    },
    {
      "cell_type": "code",
      "metadata": {
        "id": "fcDQh6aYIeWo"
      },
      "source": [
        "df = pd.read_csv('/content/Unemployment_Rate_upto_11_2020.csv')"
      ],
      "execution_count": null,
      "outputs": []
    },
    {
      "cell_type": "code",
      "metadata": {
        "id": "Uci9p7oVIjvs"
      },
      "source": [
        "df1= pd.read_csv('/content/Unemployment-2021.csv')"
      ],
      "execution_count": null,
      "outputs": []
    },
    {
      "cell_type": "code",
      "metadata": {
        "colab": {
          "base_uri": "https://localhost:8080/",
          "height": 363
        },
        "id": "9JHuVvoKKWkE",
        "outputId": "8d926ad6-0256-4966-ed7b-08b4a75a41d7"
      },
      "source": [
        "df.head()"
      ],
      "execution_count": null,
      "outputs": [
        {
          "output_type": "execute_result",
          "data": {
            "text/html": [
              "<div>\n",
              "<style scoped>\n",
              "    .dataframe tbody tr th:only-of-type {\n",
              "        vertical-align: middle;\n",
              "    }\n",
              "\n",
              "    .dataframe tbody tr th {\n",
              "        vertical-align: top;\n",
              "    }\n",
              "\n",
              "    .dataframe thead th {\n",
              "        text-align: right;\n",
              "    }\n",
              "</style>\n",
              "<table border=\"1\" class=\"dataframe\">\n",
              "  <thead>\n",
              "    <tr style=\"text-align: right;\">\n",
              "      <th></th>\n",
              "      <th>Region</th>\n",
              "      <th>Date</th>\n",
              "      <th>Frequency</th>\n",
              "      <th>Estimated_Unemployment_Rate</th>\n",
              "      <th>Estimated_Employed</th>\n",
              "      <th>Estimated_Labour_Participation_Rate</th>\n",
              "      <th>Region.1</th>\n",
              "      <th>longitude</th>\n",
              "      <th>latitude</th>\n",
              "    </tr>\n",
              "  </thead>\n",
              "  <tbody>\n",
              "    <tr>\n",
              "      <th>0</th>\n",
              "      <td>Andhra Pradesh</td>\n",
              "      <td>31-03-2020</td>\n",
              "      <td>M</td>\n",
              "      <td>5.48</td>\n",
              "      <td>16635535</td>\n",
              "      <td>41.02</td>\n",
              "      <td>South</td>\n",
              "      <td>15.9129</td>\n",
              "      <td>79.74</td>\n",
              "    </tr>\n",
              "    <tr>\n",
              "      <th>1</th>\n",
              "      <td>Andhra Pradesh</td>\n",
              "      <td>29-03-2020</td>\n",
              "      <td>M</td>\n",
              "      <td>5.83</td>\n",
              "      <td>16545652</td>\n",
              "      <td>40.90</td>\n",
              "      <td>South</td>\n",
              "      <td>15.9129</td>\n",
              "      <td>79.74</td>\n",
              "    </tr>\n",
              "    <tr>\n",
              "      <th>2</th>\n",
              "      <td>Andhra Pradesh</td>\n",
              "      <td>31-03-2020</td>\n",
              "      <td>M</td>\n",
              "      <td>5.79</td>\n",
              "      <td>15881197</td>\n",
              "      <td>39.18</td>\n",
              "      <td>South</td>\n",
              "      <td>15.9129</td>\n",
              "      <td>79.74</td>\n",
              "    </tr>\n",
              "    <tr>\n",
              "      <th>3</th>\n",
              "      <td>Andhra Pradesh</td>\n",
              "      <td>30-04-2020</td>\n",
              "      <td>M</td>\n",
              "      <td>20.51</td>\n",
              "      <td>11336911</td>\n",
              "      <td>33.10</td>\n",
              "      <td>South</td>\n",
              "      <td>15.9129</td>\n",
              "      <td>79.74</td>\n",
              "    </tr>\n",
              "    <tr>\n",
              "      <th>4</th>\n",
              "      <td>Andhra Pradesh</td>\n",
              "      <td>31-05-2020</td>\n",
              "      <td>M</td>\n",
              "      <td>17.43</td>\n",
              "      <td>12988845</td>\n",
              "      <td>36.46</td>\n",
              "      <td>South</td>\n",
              "      <td>15.9129</td>\n",
              "      <td>79.74</td>\n",
              "    </tr>\n",
              "  </tbody>\n",
              "</table>\n",
              "</div>"
            ],
            "text/plain": [
              "           Region         Date  Frequency  ...  Region.1  longitude  latitude\n",
              "0  Andhra Pradesh   31-03-2020          M  ...     South    15.9129     79.74\n",
              "1  Andhra Pradesh   29-03-2020          M  ...     South    15.9129     79.74\n",
              "2  Andhra Pradesh   31-03-2020          M  ...     South    15.9129     79.74\n",
              "3  Andhra Pradesh   30-04-2020          M  ...     South    15.9129     79.74\n",
              "4  Andhra Pradesh   31-05-2020          M  ...     South    15.9129     79.74\n",
              "\n",
              "[5 rows x 9 columns]"
            ]
          },
          "metadata": {
            "tags": []
          },
          "execution_count": 5
        }
      ]
    },
    {
      "cell_type": "code",
      "metadata": {
        "colab": {
          "base_uri": "https://localhost:8080/",
          "height": 195
        },
        "id": "_sKuQBHdKeqc",
        "outputId": "188ac8c0-aac5-40f4-9ba0-1f6c4a06d0ba"
      },
      "source": [
        "df1.head()"
      ],
      "execution_count": null,
      "outputs": [
        {
          "output_type": "execute_result",
          "data": {
            "text/html": [
              "<div>\n",
              "<style scoped>\n",
              "    .dataframe tbody tr th:only-of-type {\n",
              "        vertical-align: middle;\n",
              "    }\n",
              "\n",
              "    .dataframe tbody tr th {\n",
              "        vertical-align: top;\n",
              "    }\n",
              "\n",
              "    .dataframe thead th {\n",
              "        text-align: right;\n",
              "    }\n",
              "</style>\n",
              "<table border=\"1\" class=\"dataframe\">\n",
              "  <thead>\n",
              "    <tr style=\"text-align: right;\">\n",
              "      <th></th>\n",
              "      <th>Region</th>\n",
              "      <th>Date</th>\n",
              "      <th>Frequency</th>\n",
              "      <th>Estimated Unemployment Rate (%)</th>\n",
              "      <th>Estimated Employed</th>\n",
              "      <th>Estimated Labour Participation Rate (%)</th>\n",
              "    </tr>\n",
              "  </thead>\n",
              "  <tbody>\n",
              "    <tr>\n",
              "      <th>0</th>\n",
              "      <td>Andhra Pradesh</td>\n",
              "      <td>30-09-2020</td>\n",
              "      <td>M</td>\n",
              "      <td>6.40</td>\n",
              "      <td>15220312.0</td>\n",
              "      <td>37.47</td>\n",
              "    </tr>\n",
              "    <tr>\n",
              "      <th>1</th>\n",
              "      <td>Andhra Pradesh</td>\n",
              "      <td>31-10-2020</td>\n",
              "      <td>M</td>\n",
              "      <td>6.64</td>\n",
              "      <td>15140379.0</td>\n",
              "      <td>37.32</td>\n",
              "    </tr>\n",
              "    <tr>\n",
              "      <th>2</th>\n",
              "      <td>Andhra Pradesh</td>\n",
              "      <td>30-11-2020</td>\n",
              "      <td>M</td>\n",
              "      <td>6.02</td>\n",
              "      <td>15478231.0</td>\n",
              "      <td>37.84</td>\n",
              "    </tr>\n",
              "    <tr>\n",
              "      <th>3</th>\n",
              "      <td>Andhra Pradesh</td>\n",
              "      <td>31-12-2020</td>\n",
              "      <td>M</td>\n",
              "      <td>6.71</td>\n",
              "      <td>15854431.0</td>\n",
              "      <td>39.00</td>\n",
              "    </tr>\n",
              "    <tr>\n",
              "      <th>4</th>\n",
              "      <td>Andhra Pradesh</td>\n",
              "      <td>31-01-2021</td>\n",
              "      <td>M</td>\n",
              "      <td>4.48</td>\n",
              "      <td>16516412.0</td>\n",
              "      <td>39.62</td>\n",
              "    </tr>\n",
              "  </tbody>\n",
              "</table>\n",
              "</div>"
            ],
            "text/plain": [
              "           Region  ...  Estimated Labour Participation Rate (%)\n",
              "0  Andhra Pradesh  ...                                    37.47\n",
              "1  Andhra Pradesh  ...                                    37.32\n",
              "2  Andhra Pradesh  ...                                    37.84\n",
              "3  Andhra Pradesh  ...                                    39.00\n",
              "4  Andhra Pradesh  ...                                    39.62\n",
              "\n",
              "[5 rows x 6 columns]"
            ]
          },
          "metadata": {
            "tags": []
          },
          "execution_count": 6
        }
      ]
    },
    {
      "cell_type": "code",
      "metadata": {
        "colab": {
          "base_uri": "https://localhost:8080/",
          "height": 542
        },
        "id": "pLQLodI_Kjzw",
        "outputId": "95e1f720-1377-4464-c8e6-64d6fe0d3247"
      },
      "source": [
        "Estimated_rate_1 = df[' Estimated_Unemployment_Rate']\n",
        "Estimated_rate_2 = df1[' Estimated Unemployment Rate (%)']\n",
        "\n",
        "\n",
        "\n",
        "fig = go.Figure()\n",
        "fig.add_trace(go.Box(x = Estimated_rate_1, name = \"Estimated Rate2020\"))\n",
        "fig.add_trace(go.Box(x = Estimated_rate_2, name = \"Estimated Rate2021\"))\n",
        "fig.update_traces(opacity = 0.75)\n",
        "fig.update_layout(barmode = \"overlay\",\n",
        "title = \"Estimated Unemployment Rate\")"
      ],
      "execution_count": null,
      "outputs": [
        {
          "output_type": "display_data",
          "data": {
            "text/html": [
              "<html>\n",
              "<head><meta charset=\"utf-8\" /></head>\n",
              "<body>\n",
              "    <div>\n",
              "            <script src=\"https://cdnjs.cloudflare.com/ajax/libs/mathjax/2.7.5/MathJax.js?config=TeX-AMS-MML_SVG\"></script><script type=\"text/javascript\">if (window.MathJax) {MathJax.Hub.Config({SVG: {font: \"STIX-Web\"}});}</script>\n",
              "                <script type=\"text/javascript\">window.PlotlyConfig = {MathJaxConfig: 'local'};</script>\n",
              "        <script src=\"https://cdn.plot.ly/plotly-latest.min.js\"></script>    \n",
              "            <div id=\"c11ea2f4-3120-4584-b5b4-978d05014f4f\" class=\"plotly-graph-div\" style=\"height:525px; width:100%;\"></div>\n",
              "            <script type=\"text/javascript\">\n",
              "                \n",
              "                    window.PLOTLYENV=window.PLOTLYENV || {};\n",
              "                    \n",
              "                if (document.getElementById(\"c11ea2f4-3120-4584-b5b4-978d05014f4f\")) {\n",
              "                    Plotly.newPlot(\n",
              "                        'c11ea2f4-3120-4584-b5b4-978d05014f4f',\n",
              "                        [{\"name\": \"Estimated Rate2020\", \"opacity\": 0.75, \"type\": \"box\", \"x\": [5.48, 5.83, 5.79, 20.51, 17.43, 3.31, 8.34, 6.96, 6.4, 6.59, 4.66, 4.41, 4.77, 11.06, 9.55, 0.6, 3.77, 5.53, 1.19, 3.02, 10.61, 10.29, 15.43, 46.64, 45.96, 17.82, 12.79, 13.44, 11.91, 9.82, 9.65, 8.38, 7.54, 3.41, 10.5, 14.23, 10.27, 5.63, 1.96, 6.62, 22.23, 14.84, 17.04, 16.68, 42.27, 18.19, 20.3, 13.79, 12.53, 6.27, 8.89, 2.81, 5.25, 13.31, 21.25, 9.96, 17.07, 16.21, 15.38, 11.54, 5.54, 6.38, 6.66, 18.71, 12.11, 3.2, 1.84, 1.87, 3.42, 4.03, 20.34, 25.77, 25.05, 43.22, 29.02, 26.7, 24.18, 33.5, 19.68, 27.31, 16.83, 16.84, 18.76, 2.2, 26.95, 13.47, 24.31, 15.79, 12.04, 13.46, 21.08, 20.78, 15.5, 18.74, 17.92, 10.88, 11.09, 16.17, 16.14, 10.61, 11.85, 8.23, 47.09, 59.23, 20.95, 7.63, 9.76, 8.24, 11.8, 2.86, 3.61, 3.46, 29.84, 19.97, 8.44, 4.01, 0.5, 2.41, 1.58, 5.31, 7.6, 8.99, 16.99, 17.88, 9.71, 7.09, 10.98, 5.91, 3.88, 4.11, 4.57, 2.22, 12.36, 21.98, 6.48, 5.08, 4.7, 3.91, 3.13, 4.95, 4.69, 5.79, 20.9, 15.46, 9.23, 3.89, 6.23, 4.55, 4.1, 1.66, 3.59, 1.58, 10.03, 5.92, 1.15, 2.1, 3.74, 4.29, 4.6, 1.9, 3.12, 13.08, 23.76, 11.41, 3.77, 1.88, 1.42, 2.1, 2.18, 0.58, 1.76, 1.2, 75.85, 58.19, 4.24, 15.47, 5.05, 10.9, 6.18, 11.11, 10.97, 10.32, 2.86, 28.33, 16.55, 9.19, 10.99, 9.61, 9.88, 10.97, 15.16, 11.9, 17.7, 15.74, 14.39, 15.81, 17.51, 15.35, 24.15, 23.57, 2.28, 24.51, 4.46, 4.45, 12.49, 5.7, 0.88, 1.57, 2.09, 6.4, 49.83, 33.16, 12.2, 6.81, 2.65, 5.0, 2.16, 5.49, 8.29, 5.77, 6.25, 14.7, 10.55, 5.36, 5.79, 3.27, 2.86, 32.67, 28.4, 29.95, 41.23, 21.51, 21.71, 18.24, 27.92, 17.35, 11.57, 7.58, 8.98, 10.11, 21.54, 20.41, 9.47, 5.56, 5.79, 4.18, 3.75, 5.49, 4.99, 19.85, 6.48, 8.01, 8.61, 12.38, 14.26, 22.26, 9.23, 6.94, 4.92, 6.92, 17.41, 17.41, 7.29, 6.83, 14.87, 9.35, 9.98]}, {\"name\": \"Estimated Rate2021\", \"opacity\": 0.75, \"type\": \"box\", \"x\": [6.4, 6.64, 6.02, 6.71, 4.48, 3.74, 5.88, 4.91, 1.19, 3.02, 3.98, 7.64, 1.53, 1.65, 1.06, 0.19, 11.91, 9.82, 9.98, 12.65, 10.5, 11.47, 14.6, 11.54, 1.99, 6.66, 3.38, 7.2, 6.38, 5.99, 2.69, 3.04, 12.53, 6.27, 6.57, 7.56, 12.51, 7.99, 9.41, 27.32, 15.38, 10.95, 15.88, 13.2, 16.01, 20.58, 22.08, 25.73, 3.41, 4.03, 3.86, 3.05, 3.19, 3.17, 2.16, 1.77, 19.33, 27.32, 25.61, 32.49, 17.65, 26.31, 27.58, 35.13, 11.41, 13.46, 15.86, 7.86, 11.55, 15.57, 14.24, 11.06, 16.17, 16.14, 8.55, 16.61, 21.9, 14.21, 9.53, 11.45, 9.28, 11.8, 9.54, 12.4, 11.31, 12.17, 12.75, 16.48, 2.4, 1.58, 1.86, 1.39, 3.28, 2.5, 1.16, 2.03, 5.91, 3.88, 5.83, 6.45, 5.46, 4.3, 5.9, 7.52, 3.93, 3.26, 4.34, 3.99, 6.15, 2.02, 1.5, 1.35, 4.54, 4.2, 2.98, 3.9, 3.79, 3.75, 3.55, 5.47, 4.29, 4.6, 1.12, 6.58, 3.28, 3.83, 1.31, 1.44, 2.1, 2.18, 1.7, 0.16, 2.97, 2.46, 1.56, 1.88, 10.9, 6.18, 2.18, 2.7, 7.56, 5.76, 1.44, 2.72, 9.61, 9.83, 7.64, 4.37, 8.09, 7.21, 7.35, 5.33, 15.35, 24.1, 18.52, 28.23, 17.69, 25.63, 19.74, 28.04, 5.7, 0.88, 1.85, 0.67, 0.0, 4.29, 1.74, 1.8, 5.0, 2.16, 1.15, 0.53, 3.99, 4.79, 3.02, 2.34, 3.27, 2.93, 1.56, 7.05, 4.26, 5.58, 3.67, 5.05, 17.35, 11.57, 13.06, 18.21, 18.15, 11.05, 13.94, 17.28, 4.18, 3.75, 5.16, 14.95, 4.89, 4.1, 4.14, 6.3, 22.26, 9.23, 1.47, 5.19, 4.45, 4.69, 3.26, 5.96, 9.31, 10.22, 11.24, 6.01, 5.25, 6.22, 7.51, 7.63, 6.68, 7.02, 6.5, 9.06, 6.52, 6.89, 6.5, 7.97]}],\n",
              "                        {\"barmode\": \"overlay\", \"template\": {\"data\": {\"bar\": [{\"error_x\": {\"color\": \"#2a3f5f\"}, \"error_y\": {\"color\": \"#2a3f5f\"}, \"marker\": {\"line\": {\"color\": \"#E5ECF6\", \"width\": 0.5}}, \"type\": \"bar\"}], \"barpolar\": [{\"marker\": {\"line\": {\"color\": \"#E5ECF6\", \"width\": 0.5}}, \"type\": \"barpolar\"}], \"carpet\": [{\"aaxis\": {\"endlinecolor\": \"#2a3f5f\", \"gridcolor\": \"white\", \"linecolor\": \"white\", \"minorgridcolor\": \"white\", \"startlinecolor\": \"#2a3f5f\"}, \"baxis\": {\"endlinecolor\": \"#2a3f5f\", \"gridcolor\": \"white\", \"linecolor\": \"white\", \"minorgridcolor\": \"white\", \"startlinecolor\": \"#2a3f5f\"}, \"type\": \"carpet\"}], \"choropleth\": [{\"colorbar\": {\"outlinewidth\": 0, \"ticks\": \"\"}, \"type\": \"choropleth\"}], \"contour\": [{\"colorbar\": {\"outlinewidth\": 0, \"ticks\": \"\"}, \"colorscale\": [[0.0, \"#0d0887\"], [0.1111111111111111, \"#46039f\"], [0.2222222222222222, \"#7201a8\"], [0.3333333333333333, \"#9c179e\"], [0.4444444444444444, \"#bd3786\"], [0.5555555555555556, \"#d8576b\"], [0.6666666666666666, \"#ed7953\"], [0.7777777777777778, \"#fb9f3a\"], [0.8888888888888888, \"#fdca26\"], [1.0, \"#f0f921\"]], \"type\": \"contour\"}], \"contourcarpet\": [{\"colorbar\": {\"outlinewidth\": 0, \"ticks\": \"\"}, \"type\": \"contourcarpet\"}], \"heatmap\": [{\"colorbar\": {\"outlinewidth\": 0, \"ticks\": \"\"}, \"colorscale\": [[0.0, \"#0d0887\"], [0.1111111111111111, \"#46039f\"], [0.2222222222222222, \"#7201a8\"], [0.3333333333333333, \"#9c179e\"], [0.4444444444444444, \"#bd3786\"], [0.5555555555555556, \"#d8576b\"], [0.6666666666666666, \"#ed7953\"], [0.7777777777777778, \"#fb9f3a\"], [0.8888888888888888, \"#fdca26\"], [1.0, \"#f0f921\"]], \"type\": \"heatmap\"}], \"heatmapgl\": [{\"colorbar\": {\"outlinewidth\": 0, \"ticks\": \"\"}, \"colorscale\": [[0.0, \"#0d0887\"], [0.1111111111111111, \"#46039f\"], [0.2222222222222222, \"#7201a8\"], [0.3333333333333333, \"#9c179e\"], [0.4444444444444444, \"#bd3786\"], [0.5555555555555556, \"#d8576b\"], [0.6666666666666666, \"#ed7953\"], [0.7777777777777778, \"#fb9f3a\"], [0.8888888888888888, \"#fdca26\"], [1.0, \"#f0f921\"]], \"type\": \"heatmapgl\"}], \"histogram\": [{\"marker\": {\"colorbar\": {\"outlinewidth\": 0, \"ticks\": \"\"}}, \"type\": \"histogram\"}], \"histogram2d\": [{\"colorbar\": {\"outlinewidth\": 0, \"ticks\": \"\"}, \"colorscale\": [[0.0, \"#0d0887\"], [0.1111111111111111, \"#46039f\"], [0.2222222222222222, \"#7201a8\"], [0.3333333333333333, \"#9c179e\"], [0.4444444444444444, \"#bd3786\"], [0.5555555555555556, \"#d8576b\"], [0.6666666666666666, \"#ed7953\"], [0.7777777777777778, \"#fb9f3a\"], [0.8888888888888888, \"#fdca26\"], [1.0, \"#f0f921\"]], \"type\": \"histogram2d\"}], \"histogram2dcontour\": [{\"colorbar\": {\"outlinewidth\": 0, \"ticks\": \"\"}, \"colorscale\": [[0.0, \"#0d0887\"], [0.1111111111111111, \"#46039f\"], [0.2222222222222222, \"#7201a8\"], [0.3333333333333333, \"#9c179e\"], [0.4444444444444444, \"#bd3786\"], [0.5555555555555556, \"#d8576b\"], [0.6666666666666666, \"#ed7953\"], [0.7777777777777778, \"#fb9f3a\"], [0.8888888888888888, \"#fdca26\"], [1.0, \"#f0f921\"]], \"type\": \"histogram2dcontour\"}], \"mesh3d\": [{\"colorbar\": {\"outlinewidth\": 0, \"ticks\": \"\"}, \"type\": \"mesh3d\"}], \"parcoords\": [{\"line\": {\"colorbar\": {\"outlinewidth\": 0, \"ticks\": \"\"}}, \"type\": \"parcoords\"}], \"pie\": [{\"automargin\": true, \"type\": \"pie\"}], \"scatter\": [{\"marker\": {\"colorbar\": {\"outlinewidth\": 0, \"ticks\": \"\"}}, \"type\": \"scatter\"}], \"scatter3d\": [{\"line\": {\"colorbar\": {\"outlinewidth\": 0, \"ticks\": \"\"}}, \"marker\": {\"colorbar\": {\"outlinewidth\": 0, \"ticks\": \"\"}}, \"type\": \"scatter3d\"}], \"scattercarpet\": [{\"marker\": {\"colorbar\": {\"outlinewidth\": 0, \"ticks\": \"\"}}, \"type\": \"scattercarpet\"}], \"scattergeo\": [{\"marker\": {\"colorbar\": {\"outlinewidth\": 0, \"ticks\": \"\"}}, \"type\": \"scattergeo\"}], \"scattergl\": [{\"marker\": {\"colorbar\": {\"outlinewidth\": 0, \"ticks\": \"\"}}, \"type\": \"scattergl\"}], \"scattermapbox\": [{\"marker\": {\"colorbar\": {\"outlinewidth\": 0, \"ticks\": \"\"}}, \"type\": \"scattermapbox\"}], \"scatterpolar\": [{\"marker\": {\"colorbar\": {\"outlinewidth\": 0, \"ticks\": \"\"}}, \"type\": \"scatterpolar\"}], \"scatterpolargl\": [{\"marker\": {\"colorbar\": {\"outlinewidth\": 0, \"ticks\": \"\"}}, \"type\": \"scatterpolargl\"}], \"scatterternary\": [{\"marker\": {\"colorbar\": {\"outlinewidth\": 0, \"ticks\": \"\"}}, \"type\": \"scatterternary\"}], \"surface\": [{\"colorbar\": {\"outlinewidth\": 0, \"ticks\": \"\"}, \"colorscale\": [[0.0, \"#0d0887\"], [0.1111111111111111, \"#46039f\"], [0.2222222222222222, \"#7201a8\"], [0.3333333333333333, \"#9c179e\"], [0.4444444444444444, \"#bd3786\"], [0.5555555555555556, \"#d8576b\"], [0.6666666666666666, \"#ed7953\"], [0.7777777777777778, \"#fb9f3a\"], [0.8888888888888888, \"#fdca26\"], [1.0, \"#f0f921\"]], \"type\": \"surface\"}], \"table\": [{\"cells\": {\"fill\": {\"color\": \"#EBF0F8\"}, \"line\": {\"color\": \"white\"}}, \"header\": {\"fill\": {\"color\": \"#C8D4E3\"}, \"line\": {\"color\": \"white\"}}, \"type\": \"table\"}]}, \"layout\": {\"annotationdefaults\": {\"arrowcolor\": \"#2a3f5f\", \"arrowhead\": 0, \"arrowwidth\": 1}, \"coloraxis\": {\"colorbar\": {\"outlinewidth\": 0, \"ticks\": \"\"}}, \"colorscale\": {\"diverging\": [[0, \"#8e0152\"], [0.1, \"#c51b7d\"], [0.2, \"#de77ae\"], [0.3, \"#f1b6da\"], [0.4, \"#fde0ef\"], [0.5, \"#f7f7f7\"], [0.6, \"#e6f5d0\"], [0.7, \"#b8e186\"], [0.8, \"#7fbc41\"], [0.9, \"#4d9221\"], [1, \"#276419\"]], \"sequential\": [[0.0, \"#0d0887\"], [0.1111111111111111, \"#46039f\"], [0.2222222222222222, \"#7201a8\"], [0.3333333333333333, \"#9c179e\"], [0.4444444444444444, \"#bd3786\"], [0.5555555555555556, \"#d8576b\"], [0.6666666666666666, \"#ed7953\"], [0.7777777777777778, \"#fb9f3a\"], [0.8888888888888888, \"#fdca26\"], [1.0, \"#f0f921\"]], \"sequentialminus\": [[0.0, \"#0d0887\"], [0.1111111111111111, \"#46039f\"], [0.2222222222222222, \"#7201a8\"], [0.3333333333333333, \"#9c179e\"], [0.4444444444444444, \"#bd3786\"], [0.5555555555555556, \"#d8576b\"], [0.6666666666666666, \"#ed7953\"], [0.7777777777777778, \"#fb9f3a\"], [0.8888888888888888, \"#fdca26\"], [1.0, \"#f0f921\"]]}, \"colorway\": [\"#636efa\", \"#EF553B\", \"#00cc96\", \"#ab63fa\", \"#FFA15A\", \"#19d3f3\", \"#FF6692\", \"#B6E880\", \"#FF97FF\", \"#FECB52\"], \"font\": {\"color\": \"#2a3f5f\"}, \"geo\": {\"bgcolor\": \"white\", \"lakecolor\": \"white\", \"landcolor\": \"#E5ECF6\", \"showlakes\": true, \"showland\": true, \"subunitcolor\": \"white\"}, \"hoverlabel\": {\"align\": \"left\"}, \"hovermode\": \"closest\", \"mapbox\": {\"style\": \"light\"}, \"paper_bgcolor\": \"white\", \"plot_bgcolor\": \"#E5ECF6\", \"polar\": {\"angularaxis\": {\"gridcolor\": \"white\", \"linecolor\": \"white\", \"ticks\": \"\"}, \"bgcolor\": \"#E5ECF6\", \"radialaxis\": {\"gridcolor\": \"white\", \"linecolor\": \"white\", \"ticks\": \"\"}}, \"scene\": {\"xaxis\": {\"backgroundcolor\": \"#E5ECF6\", \"gridcolor\": \"white\", \"gridwidth\": 2, \"linecolor\": \"white\", \"showbackground\": true, \"ticks\": \"\", \"zerolinecolor\": \"white\"}, \"yaxis\": {\"backgroundcolor\": \"#E5ECF6\", \"gridcolor\": \"white\", \"gridwidth\": 2, \"linecolor\": \"white\", \"showbackground\": true, \"ticks\": \"\", \"zerolinecolor\": \"white\"}, \"zaxis\": {\"backgroundcolor\": \"#E5ECF6\", \"gridcolor\": \"white\", \"gridwidth\": 2, \"linecolor\": \"white\", \"showbackground\": true, \"ticks\": \"\", \"zerolinecolor\": \"white\"}}, \"shapedefaults\": {\"line\": {\"color\": \"#2a3f5f\"}}, \"ternary\": {\"aaxis\": {\"gridcolor\": \"white\", \"linecolor\": \"white\", \"ticks\": \"\"}, \"baxis\": {\"gridcolor\": \"white\", \"linecolor\": \"white\", \"ticks\": \"\"}, \"bgcolor\": \"#E5ECF6\", \"caxis\": {\"gridcolor\": \"white\", \"linecolor\": \"white\", \"ticks\": \"\"}}, \"title\": {\"x\": 0.05}, \"xaxis\": {\"automargin\": true, \"gridcolor\": \"white\", \"linecolor\": \"white\", \"ticks\": \"\", \"title\": {\"standoff\": 15}, \"zerolinecolor\": \"white\", \"zerolinewidth\": 2}, \"yaxis\": {\"automargin\": true, \"gridcolor\": \"white\", \"linecolor\": \"white\", \"ticks\": \"\", \"title\": {\"standoff\": 15}, \"zerolinecolor\": \"white\", \"zerolinewidth\": 2}}}, \"title\": {\"text\": \"Distribution of Retail Prices\"}},\n",
              "                        {\"responsive\": true}\n",
              "                    ).then(function(){\n",
              "                            \n",
              "var gd = document.getElementById('c11ea2f4-3120-4584-b5b4-978d05014f4f');\n",
              "var x = new MutationObserver(function (mutations, observer) {{\n",
              "        var display = window.getComputedStyle(gd).display;\n",
              "        if (!display || display === 'none') {{\n",
              "            console.log([gd, 'removed!']);\n",
              "            Plotly.purge(gd);\n",
              "            observer.disconnect();\n",
              "        }}\n",
              "}});\n",
              "\n",
              "// Listen for the removal of the full notebook cells\n",
              "var notebookContainer = gd.closest('#notebook-container');\n",
              "if (notebookContainer) {{\n",
              "    x.observe(notebookContainer, {childList: true});\n",
              "}}\n",
              "\n",
              "// Listen for the clearing of the current output cell\n",
              "var outputEl = gd.closest('.output');\n",
              "if (outputEl) {{\n",
              "    x.observe(outputEl, {childList: true});\n",
              "}}\n",
              "\n",
              "                        })\n",
              "                };\n",
              "                \n",
              "            </script>\n",
              "        </div>\n",
              "</body>\n",
              "</html>"
            ]
          },
          "metadata": {
            "tags": []
          }
        }
      ]
    },
    {
      "cell_type": "code",
      "metadata": {
        "colab": {
          "base_uri": "https://localhost:8080/",
          "height": 542
        },
        "id": "79Q69-srCi5X",
        "outputId": "b9edfcc1-cc25-4d9e-951f-e48b3338a54e"
      },
      "source": [
        "Estimated_rate_1 = df[' Estimated_Employed']\n",
        "Estimated_rate_2 = df1[' Estimated Employed']\n",
        "\n",
        "\n",
        "\n",
        "fig = go.Figure()\n",
        "fig.add_trace(go.Box(x = Estimated_rate_1, name = \"Estimated Rate2020\"))\n",
        "fig.add_trace(go.Box(x = Estimated_rate_2, name = \"Estimated Rate2021\"))\n",
        "fig.update_traces(opacity = 0.75)\n",
        "fig.update_layout(barmode = \"overlay\",\n",
        "title = \"Distribution of Retail Prices\")"
      ],
      "execution_count": null,
      "outputs": [
        {
          "output_type": "display_data",
          "data": {
            "text/html": [
              "<html>\n",
              "<head><meta charset=\"utf-8\" /></head>\n",
              "<body>\n",
              "    <div>\n",
              "            <script src=\"https://cdnjs.cloudflare.com/ajax/libs/mathjax/2.7.5/MathJax.js?config=TeX-AMS-MML_SVG\"></script><script type=\"text/javascript\">if (window.MathJax) {MathJax.Hub.Config({SVG: {font: \"STIX-Web\"}});}</script>\n",
              "                <script type=\"text/javascript\">window.PlotlyConfig = {MathJaxConfig: 'local'};</script>\n",
              "        <script src=\"https://cdn.plot.ly/plotly-latest.min.js\"></script>    \n",
              "            <div id=\"b00bd584-6bc0-4db7-b915-9855bd0dc372\" class=\"plotly-graph-div\" style=\"height:525px; width:100%;\"></div>\n",
              "            <script type=\"text/javascript\">\n",
              "                \n",
              "                    window.PLOTLYENV=window.PLOTLYENV || {};\n",
              "                    \n",
              "                if (document.getElementById(\"b00bd584-6bc0-4db7-b915-9855bd0dc372\")) {\n",
              "                    Plotly.newPlot(\n",
              "                        'b00bd584-6bc0-4db7-b915-9855bd0dc372',\n",
              "                        [{\"name\": \"Estimated Rate2020\", \"opacity\": 0.75, \"type\": \"box\", \"x\": [16635535, 16545652, 15881197, 11336911, 12988845, 19805400, 15431615, 15251776, 15220312, 15157557, 13051904, 10088268, 11542888, 6830817, 11367897, 9095944, 10286757, 9781310, 14107641, 11949329, 26397671, 26281655, 25717519, 16046236, 16280203, 23963933, 24989370, 23795534, 26902907, 25693252, 8552172, 9195114, 9302317, 7600448, 6991217, 7332807, 8620294, 9050422, 9021854, 8546847, 5805284, 5856307, 5553805, 3119274, 2632404, 4418914, 4291053, 4850107, 4958373, 4842698, 416750, 478068, 411761, 500614, 378244, 489111, 458876, 473016, 425004, 392304, 24126346, 24757795, 23566641, 15288878, 17836936, 23657055, 24276120, 22817232, 25010199, 25970259, 7693231, 7322942, 6641555, 5647630, 6437868, 6951934, 6800652, 7113788, 7132439, 6698551, 2287632, 2180268, 2021858, 1131128, 1897639, 2199683, 2229456, 2029740, 2237480, 2123965, 3453025, 3223513, 3359107, 3246493, 3202336, 3558889, 3429950, 3210281, 3106691, 10198029, 10425425, 9638115, 5335262, 4145385, 8622722, 9521900, 9331640, 10185670, 10302276, 22688028, 21677719, 22079653, 16718395, 19397853, 24215057, 22885616, 24094289, 20127176, 22356390, 9904534, 9828023, 8221728, 3933276, 7921962, 9228268, 9504420, 9031944, 9240913, 9152881, 23018632, 22711479, 22867164, 19041832, 18443927, 23054646, 23940158, 23619011, 23341952, 23144552, 42596868, 42416317, 40196806, 27689253, 32116847, 39708538, 40998545, 40963616, 42042911, 43317881, 1491093, 1346829, 1482351, 965057, 1215064, 1350794, 1448106, 1357643, 1459726, 1381490, 13743448, 14280735, 12272109, 6865693, 11730937, 12903993, 13614400, 14154039, 13608422, 14094553, 457950, 493961, 421028, 117542, 172308, 367135, 386563, 396006, 411717, 428419, 9442093, 9229047, 9975485, 7020565, 6872938, 8390766, 9732417, 9386169, 8980432, 8800430, 20641716, 20328915, 20024680, 15984142, 19826602, 20506612, 19932393, 20014060, 20149594, 19908808, 262895, 215303, 193427, 221058, 265175, 244462, 231798, 242068, 26881641, 27570589, 26830768, 9719167, 11483256, 19096847, 24572827, 27046415, 23025845, 23651626, 17609295, 16825970, 17341613, 12172230, 14977774, 15108910, 15679417, 18185429, 16961448, 17578739, 1508130, 1584686, 1511217, 971514, 1290986, 1494140, 1348849, 1318621, 1368244, 1576529, 59433759, 58060531, 56976338, 50915056, 49801902, 55380649, 56201654, 55831744, 56106836, 56539521, 2711639, 3020931, 2539302, 2720115, 2694072, 2656071, 2938552, 2717528, 2695230, 2739309, 35820789, 36964178, 35903917, 26938836, 28356675, 30726310, 35372506, 33298644, 35707239, 33962549]}, {\"name\": \"Estimated Rate2021\", \"opacity\": 0.75, \"type\": \"box\", \"x\": [15220312.0, 15140379.0, 15478231.0, 15854431.0, 16516412.0, 16736552.0, 15752408.0, 15834266.0, 14107641.0, 11949329.0, 10901371.0, 10482404.0, 13177962.0, 11283161.0, 11122329.0, 10349575.0, 26902907.0, 25693252.0, 26021204.0, 24393328.0, 28016910.0, 25685968.0, 25734604.0, 24727431.0, 9158315.0, 8589223.0, 8705350.0, 8391157.0, 8828785.0, 8882237.0, 8580167.0, 9463460.0, 4958373.0, 4842698.0, 5058039.0, 5341068.0, 5157974.0, 5176344.0, 5123006.0, 4160172.0, 425004.0, 388583.0, 376472.0, 439150.0, 424096.0, 438421.0, 393170.0, 366499.0, 24978668.0, 25970259.0, 24161076.0, 21483898.0, 24009720.0, 24070070.0, 24357415.0, 24320086.0, 7190435.0, 6686733.0, 7054038.0, 6723049.0, 7510342.0, 6808544.0, 7255469.0, 6860556.0, 2240699.0, 2123965.0, 1968783.0, 2174653.0, 2248174.0, 2075852.0, 1927818.0, 2000101.0, 3210281.0, 3106691.0, 3105513.0, 3333288.0, 3308895.0, 3075564.0, 2994081.0, 3578310.0, 9980378.0, 10302276.0, 9574705.0, 9652716.0, 10005873.0, 10198512.0, 9655793.0, 9559528.0, 20131894.0, 22349602.0, 21714939.0, 22393716.0, 21869339.0, 22537746.0, 21854018.0, 23110478.0, 9240913.0, 9152881.0, 8472442.0, 9556138.0, 9264917.0, 9336761.0, 8804500.0, 9603392.0, 23396559.0, 23109279.0, 24437387.0, 23864423.0, 23183713.0, 22589307.0, 24004347.0, 22705824.0, 41970885.0, 42984107.0, 41835346.0, 41852719.0, 42638718.0, 43096660.0, 44407556.0, 40125662.0, 1459726.0, 1381490.0, 1425271.0, 1320920.0, 1412004.0, 1326534.0, 1516752.0, 1385061.0, 13608422.0, 14094553.0, 14294301.0, 14645274.0, 13790183.0, 14077007.0, 14055367.0, 14869145.0, 411717.0, 428419.0, 407505.0, 415410.0, 420079.0, 420318.0, 418321.0, 424356.0, 8979999.0, 8811756.0, 9550215.0, 9369173.0, 9097268.0, 9037550.0, 9590215.0, 9367881.0, 20149594.0, 19913403.0, 20268396.0, 19786545.0, 21125626.0, 20096427.0, 20392741.0, 19857143.0, 231798.0, 242068.0, 265087.0, 291263.0, 271163.0, 269144.0, 268111.0, 260191.0, 23025845.0, 23651626.0, 24629525.0, 25020860.0, 22930424.0, 23539357.0, 24688097.0, 24591402.0, 16958984.0, 17417825.0, 17190976.0, 13239092.0, 16304175.0, 16040348.0, 16373619.0, 14105009.0, 1368244.0, 1576529.0, 1454568.0, 1389711.0, 1395070.0, 1629794.0, 1493608.0, 1436936.0, 56106836.0, 56539521.0, 56720101.0, 55796313.0, 55124290.0, 56568780.0, 55834036.0, 56962368.0, 2695230.0, 2739309.0, 2447664.0, 2647822.0, 2531098.0, 2775542.0, 2511431.0, 2852350.0, 35877583.0, 33856332.0, 33420675.0, 35829652.0, 36563881.0, 37127736.0, 35827410.0, 34849346.0, 397739844.0, 396450375.0, 394133855.0, 388777142.0, 400709258.0, 398213434.0, 398145073.0, 390790128.0]}],\n",
              "                        {\"barmode\": \"overlay\", \"template\": {\"data\": {\"bar\": [{\"error_x\": {\"color\": \"#2a3f5f\"}, \"error_y\": {\"color\": \"#2a3f5f\"}, \"marker\": {\"line\": {\"color\": \"#E5ECF6\", \"width\": 0.5}}, \"type\": \"bar\"}], \"barpolar\": [{\"marker\": {\"line\": {\"color\": \"#E5ECF6\", \"width\": 0.5}}, \"type\": \"barpolar\"}], \"carpet\": [{\"aaxis\": {\"endlinecolor\": \"#2a3f5f\", \"gridcolor\": \"white\", \"linecolor\": \"white\", \"minorgridcolor\": \"white\", \"startlinecolor\": \"#2a3f5f\"}, \"baxis\": {\"endlinecolor\": \"#2a3f5f\", \"gridcolor\": \"white\", \"linecolor\": \"white\", \"minorgridcolor\": \"white\", \"startlinecolor\": \"#2a3f5f\"}, \"type\": \"carpet\"}], \"choropleth\": [{\"colorbar\": {\"outlinewidth\": 0, \"ticks\": \"\"}, \"type\": \"choropleth\"}], \"contour\": [{\"colorbar\": {\"outlinewidth\": 0, \"ticks\": \"\"}, \"colorscale\": [[0.0, \"#0d0887\"], [0.1111111111111111, \"#46039f\"], [0.2222222222222222, \"#7201a8\"], [0.3333333333333333, \"#9c179e\"], [0.4444444444444444, \"#bd3786\"], [0.5555555555555556, \"#d8576b\"], [0.6666666666666666, \"#ed7953\"], [0.7777777777777778, \"#fb9f3a\"], [0.8888888888888888, \"#fdca26\"], [1.0, \"#f0f921\"]], \"type\": \"contour\"}], \"contourcarpet\": [{\"colorbar\": {\"outlinewidth\": 0, \"ticks\": \"\"}, \"type\": \"contourcarpet\"}], \"heatmap\": [{\"colorbar\": {\"outlinewidth\": 0, \"ticks\": \"\"}, \"colorscale\": [[0.0, \"#0d0887\"], [0.1111111111111111, \"#46039f\"], [0.2222222222222222, \"#7201a8\"], [0.3333333333333333, \"#9c179e\"], [0.4444444444444444, \"#bd3786\"], [0.5555555555555556, \"#d8576b\"], [0.6666666666666666, \"#ed7953\"], [0.7777777777777778, \"#fb9f3a\"], [0.8888888888888888, \"#fdca26\"], [1.0, \"#f0f921\"]], \"type\": \"heatmap\"}], \"heatmapgl\": [{\"colorbar\": {\"outlinewidth\": 0, \"ticks\": \"\"}, \"colorscale\": [[0.0, \"#0d0887\"], [0.1111111111111111, \"#46039f\"], [0.2222222222222222, \"#7201a8\"], [0.3333333333333333, \"#9c179e\"], [0.4444444444444444, \"#bd3786\"], [0.5555555555555556, \"#d8576b\"], [0.6666666666666666, \"#ed7953\"], [0.7777777777777778, \"#fb9f3a\"], [0.8888888888888888, \"#fdca26\"], [1.0, \"#f0f921\"]], \"type\": \"heatmapgl\"}], \"histogram\": [{\"marker\": {\"colorbar\": {\"outlinewidth\": 0, \"ticks\": \"\"}}, \"type\": \"histogram\"}], \"histogram2d\": [{\"colorbar\": {\"outlinewidth\": 0, \"ticks\": \"\"}, \"colorscale\": [[0.0, \"#0d0887\"], [0.1111111111111111, \"#46039f\"], [0.2222222222222222, \"#7201a8\"], [0.3333333333333333, \"#9c179e\"], [0.4444444444444444, \"#bd3786\"], [0.5555555555555556, \"#d8576b\"], [0.6666666666666666, \"#ed7953\"], [0.7777777777777778, \"#fb9f3a\"], [0.8888888888888888, \"#fdca26\"], [1.0, \"#f0f921\"]], \"type\": \"histogram2d\"}], \"histogram2dcontour\": [{\"colorbar\": {\"outlinewidth\": 0, \"ticks\": \"\"}, \"colorscale\": [[0.0, \"#0d0887\"], [0.1111111111111111, \"#46039f\"], [0.2222222222222222, \"#7201a8\"], [0.3333333333333333, \"#9c179e\"], [0.4444444444444444, \"#bd3786\"], [0.5555555555555556, \"#d8576b\"], [0.6666666666666666, \"#ed7953\"], [0.7777777777777778, \"#fb9f3a\"], [0.8888888888888888, \"#fdca26\"], [1.0, \"#f0f921\"]], \"type\": \"histogram2dcontour\"}], \"mesh3d\": [{\"colorbar\": {\"outlinewidth\": 0, \"ticks\": \"\"}, \"type\": \"mesh3d\"}], \"parcoords\": [{\"line\": {\"colorbar\": {\"outlinewidth\": 0, \"ticks\": \"\"}}, \"type\": \"parcoords\"}], \"pie\": [{\"automargin\": true, \"type\": \"pie\"}], \"scatter\": [{\"marker\": {\"colorbar\": {\"outlinewidth\": 0, \"ticks\": \"\"}}, \"type\": \"scatter\"}], \"scatter3d\": [{\"line\": {\"colorbar\": {\"outlinewidth\": 0, \"ticks\": \"\"}}, \"marker\": {\"colorbar\": {\"outlinewidth\": 0, \"ticks\": \"\"}}, \"type\": \"scatter3d\"}], \"scattercarpet\": [{\"marker\": {\"colorbar\": {\"outlinewidth\": 0, \"ticks\": \"\"}}, \"type\": \"scattercarpet\"}], \"scattergeo\": [{\"marker\": {\"colorbar\": {\"outlinewidth\": 0, \"ticks\": \"\"}}, \"type\": \"scattergeo\"}], \"scattergl\": [{\"marker\": {\"colorbar\": {\"outlinewidth\": 0, \"ticks\": \"\"}}, \"type\": \"scattergl\"}], \"scattermapbox\": [{\"marker\": {\"colorbar\": {\"outlinewidth\": 0, \"ticks\": \"\"}}, \"type\": \"scattermapbox\"}], \"scatterpolar\": [{\"marker\": {\"colorbar\": {\"outlinewidth\": 0, \"ticks\": \"\"}}, \"type\": \"scatterpolar\"}], \"scatterpolargl\": [{\"marker\": {\"colorbar\": {\"outlinewidth\": 0, \"ticks\": \"\"}}, \"type\": \"scatterpolargl\"}], \"scatterternary\": [{\"marker\": {\"colorbar\": {\"outlinewidth\": 0, \"ticks\": \"\"}}, \"type\": \"scatterternary\"}], \"surface\": [{\"colorbar\": {\"outlinewidth\": 0, \"ticks\": \"\"}, \"colorscale\": [[0.0, \"#0d0887\"], [0.1111111111111111, \"#46039f\"], [0.2222222222222222, \"#7201a8\"], [0.3333333333333333, \"#9c179e\"], [0.4444444444444444, \"#bd3786\"], [0.5555555555555556, \"#d8576b\"], [0.6666666666666666, \"#ed7953\"], [0.7777777777777778, \"#fb9f3a\"], [0.8888888888888888, \"#fdca26\"], [1.0, \"#f0f921\"]], \"type\": \"surface\"}], \"table\": [{\"cells\": {\"fill\": {\"color\": \"#EBF0F8\"}, \"line\": {\"color\": \"white\"}}, \"header\": {\"fill\": {\"color\": \"#C8D4E3\"}, \"line\": {\"color\": \"white\"}}, \"type\": \"table\"}]}, \"layout\": {\"annotationdefaults\": {\"arrowcolor\": \"#2a3f5f\", \"arrowhead\": 0, \"arrowwidth\": 1}, \"coloraxis\": {\"colorbar\": {\"outlinewidth\": 0, \"ticks\": \"\"}}, \"colorscale\": {\"diverging\": [[0, \"#8e0152\"], [0.1, \"#c51b7d\"], [0.2, \"#de77ae\"], [0.3, \"#f1b6da\"], [0.4, \"#fde0ef\"], [0.5, \"#f7f7f7\"], [0.6, \"#e6f5d0\"], [0.7, \"#b8e186\"], [0.8, \"#7fbc41\"], [0.9, \"#4d9221\"], [1, \"#276419\"]], \"sequential\": [[0.0, \"#0d0887\"], [0.1111111111111111, \"#46039f\"], [0.2222222222222222, \"#7201a8\"], [0.3333333333333333, \"#9c179e\"], [0.4444444444444444, \"#bd3786\"], [0.5555555555555556, \"#d8576b\"], [0.6666666666666666, \"#ed7953\"], [0.7777777777777778, \"#fb9f3a\"], [0.8888888888888888, \"#fdca26\"], [1.0, \"#f0f921\"]], \"sequentialminus\": [[0.0, \"#0d0887\"], [0.1111111111111111, \"#46039f\"], [0.2222222222222222, \"#7201a8\"], [0.3333333333333333, \"#9c179e\"], [0.4444444444444444, \"#bd3786\"], [0.5555555555555556, \"#d8576b\"], [0.6666666666666666, \"#ed7953\"], [0.7777777777777778, \"#fb9f3a\"], [0.8888888888888888, \"#fdca26\"], [1.0, \"#f0f921\"]]}, \"colorway\": [\"#636efa\", \"#EF553B\", \"#00cc96\", \"#ab63fa\", \"#FFA15A\", \"#19d3f3\", \"#FF6692\", \"#B6E880\", \"#FF97FF\", \"#FECB52\"], \"font\": {\"color\": \"#2a3f5f\"}, \"geo\": {\"bgcolor\": \"white\", \"lakecolor\": \"white\", \"landcolor\": \"#E5ECF6\", \"showlakes\": true, \"showland\": true, \"subunitcolor\": \"white\"}, \"hoverlabel\": {\"align\": \"left\"}, \"hovermode\": \"closest\", \"mapbox\": {\"style\": \"light\"}, \"paper_bgcolor\": \"white\", \"plot_bgcolor\": \"#E5ECF6\", \"polar\": {\"angularaxis\": {\"gridcolor\": \"white\", \"linecolor\": \"white\", \"ticks\": \"\"}, \"bgcolor\": \"#E5ECF6\", \"radialaxis\": {\"gridcolor\": \"white\", \"linecolor\": \"white\", \"ticks\": \"\"}}, \"scene\": {\"xaxis\": {\"backgroundcolor\": \"#E5ECF6\", \"gridcolor\": \"white\", \"gridwidth\": 2, \"linecolor\": \"white\", \"showbackground\": true, \"ticks\": \"\", \"zerolinecolor\": \"white\"}, \"yaxis\": {\"backgroundcolor\": \"#E5ECF6\", \"gridcolor\": \"white\", \"gridwidth\": 2, \"linecolor\": \"white\", \"showbackground\": true, \"ticks\": \"\", \"zerolinecolor\": \"white\"}, \"zaxis\": {\"backgroundcolor\": \"#E5ECF6\", \"gridcolor\": \"white\", \"gridwidth\": 2, \"linecolor\": \"white\", \"showbackground\": true, \"ticks\": \"\", \"zerolinecolor\": \"white\"}}, \"shapedefaults\": {\"line\": {\"color\": \"#2a3f5f\"}}, \"ternary\": {\"aaxis\": {\"gridcolor\": \"white\", \"linecolor\": \"white\", \"ticks\": \"\"}, \"baxis\": {\"gridcolor\": \"white\", \"linecolor\": \"white\", \"ticks\": \"\"}, \"bgcolor\": \"#E5ECF6\", \"caxis\": {\"gridcolor\": \"white\", \"linecolor\": \"white\", \"ticks\": \"\"}}, \"title\": {\"x\": 0.05}, \"xaxis\": {\"automargin\": true, \"gridcolor\": \"white\", \"linecolor\": \"white\", \"ticks\": \"\", \"title\": {\"standoff\": 15}, \"zerolinecolor\": \"white\", \"zerolinewidth\": 2}, \"yaxis\": {\"automargin\": true, \"gridcolor\": \"white\", \"linecolor\": \"white\", \"ticks\": \"\", \"title\": {\"standoff\": 15}, \"zerolinecolor\": \"white\", \"zerolinewidth\": 2}}}, \"title\": {\"text\": \"Distribution of Retail Prices\"}},\n",
              "                        {\"responsive\": true}\n",
              "                    ).then(function(){\n",
              "                            \n",
              "var gd = document.getElementById('b00bd584-6bc0-4db7-b915-9855bd0dc372');\n",
              "var x = new MutationObserver(function (mutations, observer) {{\n",
              "        var display = window.getComputedStyle(gd).display;\n",
              "        if (!display || display === 'none') {{\n",
              "            console.log([gd, 'removed!']);\n",
              "            Plotly.purge(gd);\n",
              "            observer.disconnect();\n",
              "        }}\n",
              "}});\n",
              "\n",
              "// Listen for the removal of the full notebook cells\n",
              "var notebookContainer = gd.closest('#notebook-container');\n",
              "if (notebookContainer) {{\n",
              "    x.observe(notebookContainer, {childList: true});\n",
              "}}\n",
              "\n",
              "// Listen for the clearing of the current output cell\n",
              "var outputEl = gd.closest('.output');\n",
              "if (outputEl) {{\n",
              "    x.observe(outputEl, {childList: true});\n",
              "}}\n",
              "\n",
              "                        })\n",
              "                };\n",
              "                \n",
              "            </script>\n",
              "        </div>\n",
              "</body>\n",
              "</html>"
            ]
          },
          "metadata": {
            "tags": []
          }
        }
      ]
    },
    {
      "cell_type": "code",
      "metadata": {
        "colab": {
          "base_uri": "https://localhost:8080/",
          "height": 542
        },
        "id": "XhjEiIZ_Dvgy",
        "outputId": "4d4c5361-7c50-4fe8-d14f-d878c65127e0"
      },
      "source": [
        "Estimated_rate_1 = df[' Estimated_Labour_Participation_Rate']\n",
        "Estimated_rate_2 = df1[' Estimated Labour Participation Rate (%)']\n",
        "\n",
        "\n",
        "\n",
        "fig = go.Figure()\n",
        "fig.add_trace(go.Box(x = Estimated_rate_1, name = \"Estimated Rate2020\"))\n",
        "fig.add_trace(go.Box(x = Estimated_rate_2, name = \"Estimated Rate2021\"))\n",
        "fig.update_traces(opacity = 0.75)\n",
        "fig.update_layout(barmode = \"overlay\",\n",
        "title = \"Estimated Labour Participation Rate\")"
      ],
      "execution_count": null,
      "outputs": [
        {
          "output_type": "display_data",
          "data": {
            "text/html": [
              "<html>\n",
              "<head><meta charset=\"utf-8\" /></head>\n",
              "<body>\n",
              "    <div>\n",
              "            <script src=\"https://cdnjs.cloudflare.com/ajax/libs/mathjax/2.7.5/MathJax.js?config=TeX-AMS-MML_SVG\"></script><script type=\"text/javascript\">if (window.MathJax) {MathJax.Hub.Config({SVG: {font: \"STIX-Web\"}});}</script>\n",
              "                <script type=\"text/javascript\">window.PlotlyConfig = {MathJaxConfig: 'local'};</script>\n",
              "        <script src=\"https://cdn.plot.ly/plotly-latest.min.js\"></script>    \n",
              "            <div id=\"055ca275-530e-4b29-a9ad-60acdc213047\" class=\"plotly-graph-div\" style=\"height:525px; width:100%;\"></div>\n",
              "            <script type=\"text/javascript\">\n",
              "                \n",
              "                    window.PLOTLYENV=window.PLOTLYENV || {};\n",
              "                    \n",
              "                if (document.getElementById(\"055ca275-530e-4b29-a9ad-60acdc213047\")) {\n",
              "                    Plotly.newPlot(\n",
              "                        '055ca275-530e-4b29-a9ad-60acdc213047',\n",
              "                        [{\"name\": \"Estimated Rate2020\", \"opacity\": 0.75, \"type\": \"box\", \"x\": [41.02, 40.9, 39.18, 33.1, 36.46, 47.41, 38.91, 37.83, 37.47, 37.34, 52.98, 40.77, 46.73, 29.55, 48.26, 35.07, 40.88, 39.52, 54.38, 46.84, 37.72, 37.35, 38.69, 38.17, 38.16, 36.86, 36.14, 34.59, 38.35, 35.7, 43.08, 45.58, 45.59, 35.58, 35.23, 38.48, 43.14, 42.97, 41.14, 40.82, 47.79, 43.92, 42.65, 23.8, 28.91, 34.17, 33.97, 35.41, 35.59, 32.36, 35.73, 38.38, 33.88, 44.97, 37.36, 42.21, 42.94, 43.76, 38.89, 34.3, 48.49, 50.11, 47.75, 35.5, 38.23, 45.96, 46.41, 43.55, 48.41, 50.49, 43.36, 44.21, 39.63, 44.38, 40.39, 42.14, 39.77, 47.32, 39.2, 40.6, 45.5, 43.3, 41.04, 19.04, 42.7, 41.72, 48.25, 39.42, 41.54, 40.01, 42.2, 39.17, 38.18, 38.21, 37.24, 38.03, 36.66, 36.31, 35.05, 42.92, 44.4, 39.34, 37.69, 37.92, 40.59, 38.27, 38.31, 41.04, 43.08, 42.18, 40.54, 41.14, 42.78, 43.43, 47.29, 42.55, 43.13, 36.66, 40.3, 37.12, 37.71, 32.0, 16.77, 34.11, 36.11, 36.1, 35.78, 34.6, 33.52, 39.42, 39.0, 38.24, 35.45, 38.48, 40.04, 40.88, 40.08, 39.2, 38.47, 44.19, 43.8, 41.91, 34.32, 37.17, 42.71, 41.57, 42.49, 42.75, 43.75, 65.49, 60.2, 64.74, 45.99, 55.24, 58.31, 62.96, 59.88, 64.6, 61.18, 39.44, 41.44, 39.62, 25.23, 37.04, 37.45, 38.69, 39.96, 38.63, 39.98, 37.46, 40.8, 34.49, 39.3, 33.19, 30.8, 36.64, 33.34, 36.84, 36.32, 42.82, 41.72, 44.69, 28.99, 38.39, 40.18, 42.76, 41.99, 39.5, 38.75, 40.51, 41.77, 39.54, 33.71, 40.74, 41.38, 40.8, 41.71, 40.83, 44.92, 60.59, 38.7, 44.88, 40.4, 48.32, 48.49, 42.54, 42.13, 41.96, 43.2, 43.91, 29.63, 26.23, 33.16, 40.13, 42.22, 36.77, 36.62, 59.25, 58.24, 58.31, 41.06, 55.43, 53.22, 52.1, 60.59, 54.94, 56.58, 69.69, 68.74, 66.89, 51.16, 50.81, 58.85, 50.78, 56.21, 50.77, 54.58, 39.63, 39.23, 38.89, 39.73, 38.22, 37.29, 36.19, 35.96, 35.45, 35.49, 32.99, 36.48, 36.27, 33.23, 33.38, 33.06, 38.07, 35.9, 39.18, 34.03, 47.35, 47.74, 47.27, 39.9, 41.92, 40.39, 46.17, 47.48, 47.73, 45.63]}, {\"name\": \"Estimated Rate2021\", \"opacity\": 0.75, \"type\": \"box\", \"x\": [37.47, 37.32, 37.84, 39.0, 39.62, 39.78, 38.24, 37.99, 54.38, 46.84, 43.07, 42.97, 50.57, 43.27, 42.31, 38.95, 38.35, 35.7, 36.14, 34.84, 38.97, 36.05, 37.36, 34.58, 41.77, 41.05, 40.1, 40.15, 41.78, 41.77, 38.89, 42.96, 35.59, 32.36, 33.83, 36.01, 36.65, 34.9, 35.0, 35.33, 38.89, 33.75, 34.58, 39.05, 38.93, 42.51, 38.81, 37.92, 48.34, 50.49, 46.79, 41.18, 46.0, 46.02, 46.0, 45.66, 39.35, 40.53, 41.68, 43.69, 39.92, 40.36, 43.67, 46.0, 41.3, 40.01, 38.08, 38.35, 41.23, 39.83, 36.35, 36.31, 36.31, 35.05, 32.07, 37.67, 39.83, 33.64, 30.99, 37.76, 40.67, 43.08, 38.96, 40.47, 41.34, 42.46, 40.38, 41.67, 36.67, 40.28, 39.18, 40.13, 39.87, 40.69, 38.84, 41.36, 34.6, 33.52, 31.64, 35.89, 34.39, 34.21, 32.78, 36.35, 39.3, 38.46, 41.04, 39.85, 39.51, 36.8, 38.82, 36.58, 42.67, 43.46, 41.69, 42.02, 42.68, 43.04, 44.16, 40.64, 64.6, 61.18, 60.75, 59.45, 61.23, 57.72, 64.15, 58.52, 38.63, 39.98, 40.28, 40.57, 39.24, 39.79, 39.29, 41.64, 36.84, 36.32, 33.05, 33.79, 35.87, 35.13, 33.34, 34.19, 39.5, 38.78, 40.96, 38.75, 39.07, 38.39, 40.73, 38.87, 40.83, 44.9, 42.47, 46.96, 43.62, 45.83, 42.99, 46.58, 42.54, 42.13, 46.46, 50.29, 46.35, 47.94, 46.37, 44.89, 36.77, 36.62, 37.68, 37.98, 36.0, 37.22, 38.26, 37.78, 54.93, 56.11, 54.51, 44.37, 52.95, 52.73, 52.65, 45.94, 50.77, 54.58, 51.13, 51.82, 51.89, 55.69, 52.65, 52.61, 35.45, 35.49, 36.05, 39.46, 34.78, 35.33, 34.8, 36.25, 39.18, 34.03, 27.95, 31.36, 29.68, 32.56, 28.96, 33.77, 47.93, 45.6, 45.45, 45.93, 46.4, 47.52, 46.41, 45.11, 40.68, 40.62, 40.08, 40.56, 40.59, 40.43, 40.17, 39.98]}],\n",
              "                        {\"barmode\": \"overlay\", \"template\": {\"data\": {\"bar\": [{\"error_x\": {\"color\": \"#2a3f5f\"}, \"error_y\": {\"color\": \"#2a3f5f\"}, \"marker\": {\"line\": {\"color\": \"#E5ECF6\", \"width\": 0.5}}, \"type\": \"bar\"}], \"barpolar\": [{\"marker\": {\"line\": {\"color\": \"#E5ECF6\", \"width\": 0.5}}, \"type\": \"barpolar\"}], \"carpet\": [{\"aaxis\": {\"endlinecolor\": \"#2a3f5f\", \"gridcolor\": \"white\", \"linecolor\": \"white\", \"minorgridcolor\": \"white\", \"startlinecolor\": \"#2a3f5f\"}, \"baxis\": {\"endlinecolor\": \"#2a3f5f\", \"gridcolor\": \"white\", \"linecolor\": \"white\", \"minorgridcolor\": \"white\", \"startlinecolor\": \"#2a3f5f\"}, \"type\": \"carpet\"}], \"choropleth\": [{\"colorbar\": {\"outlinewidth\": 0, \"ticks\": \"\"}, \"type\": \"choropleth\"}], \"contour\": [{\"colorbar\": {\"outlinewidth\": 0, \"ticks\": \"\"}, \"colorscale\": [[0.0, \"#0d0887\"], [0.1111111111111111, \"#46039f\"], [0.2222222222222222, \"#7201a8\"], [0.3333333333333333, \"#9c179e\"], [0.4444444444444444, \"#bd3786\"], [0.5555555555555556, \"#d8576b\"], [0.6666666666666666, \"#ed7953\"], [0.7777777777777778, \"#fb9f3a\"], [0.8888888888888888, \"#fdca26\"], [1.0, \"#f0f921\"]], \"type\": \"contour\"}], \"contourcarpet\": [{\"colorbar\": {\"outlinewidth\": 0, \"ticks\": \"\"}, \"type\": \"contourcarpet\"}], \"heatmap\": [{\"colorbar\": {\"outlinewidth\": 0, \"ticks\": \"\"}, \"colorscale\": [[0.0, \"#0d0887\"], [0.1111111111111111, \"#46039f\"], [0.2222222222222222, \"#7201a8\"], [0.3333333333333333, \"#9c179e\"], [0.4444444444444444, \"#bd3786\"], [0.5555555555555556, \"#d8576b\"], [0.6666666666666666, \"#ed7953\"], [0.7777777777777778, \"#fb9f3a\"], [0.8888888888888888, \"#fdca26\"], [1.0, \"#f0f921\"]], \"type\": \"heatmap\"}], \"heatmapgl\": [{\"colorbar\": {\"outlinewidth\": 0, \"ticks\": \"\"}, \"colorscale\": [[0.0, \"#0d0887\"], [0.1111111111111111, \"#46039f\"], [0.2222222222222222, \"#7201a8\"], [0.3333333333333333, \"#9c179e\"], [0.4444444444444444, \"#bd3786\"], [0.5555555555555556, \"#d8576b\"], [0.6666666666666666, \"#ed7953\"], [0.7777777777777778, \"#fb9f3a\"], [0.8888888888888888, \"#fdca26\"], [1.0, \"#f0f921\"]], \"type\": \"heatmapgl\"}], \"histogram\": [{\"marker\": {\"colorbar\": {\"outlinewidth\": 0, \"ticks\": \"\"}}, \"type\": \"histogram\"}], \"histogram2d\": [{\"colorbar\": {\"outlinewidth\": 0, \"ticks\": \"\"}, \"colorscale\": [[0.0, \"#0d0887\"], [0.1111111111111111, \"#46039f\"], [0.2222222222222222, \"#7201a8\"], [0.3333333333333333, \"#9c179e\"], [0.4444444444444444, \"#bd3786\"], [0.5555555555555556, \"#d8576b\"], [0.6666666666666666, \"#ed7953\"], [0.7777777777777778, \"#fb9f3a\"], [0.8888888888888888, \"#fdca26\"], [1.0, \"#f0f921\"]], \"type\": \"histogram2d\"}], \"histogram2dcontour\": [{\"colorbar\": {\"outlinewidth\": 0, \"ticks\": \"\"}, \"colorscale\": [[0.0, \"#0d0887\"], [0.1111111111111111, \"#46039f\"], [0.2222222222222222, \"#7201a8\"], [0.3333333333333333, \"#9c179e\"], [0.4444444444444444, \"#bd3786\"], [0.5555555555555556, \"#d8576b\"], [0.6666666666666666, \"#ed7953\"], [0.7777777777777778, \"#fb9f3a\"], [0.8888888888888888, \"#fdca26\"], [1.0, \"#f0f921\"]], \"type\": \"histogram2dcontour\"}], \"mesh3d\": [{\"colorbar\": {\"outlinewidth\": 0, \"ticks\": \"\"}, \"type\": \"mesh3d\"}], \"parcoords\": [{\"line\": {\"colorbar\": {\"outlinewidth\": 0, \"ticks\": \"\"}}, \"type\": \"parcoords\"}], \"pie\": [{\"automargin\": true, \"type\": \"pie\"}], \"scatter\": [{\"marker\": {\"colorbar\": {\"outlinewidth\": 0, \"ticks\": \"\"}}, \"type\": \"scatter\"}], \"scatter3d\": [{\"line\": {\"colorbar\": {\"outlinewidth\": 0, \"ticks\": \"\"}}, \"marker\": {\"colorbar\": {\"outlinewidth\": 0, \"ticks\": \"\"}}, \"type\": \"scatter3d\"}], \"scattercarpet\": [{\"marker\": {\"colorbar\": {\"outlinewidth\": 0, \"ticks\": \"\"}}, \"type\": \"scattercarpet\"}], \"scattergeo\": [{\"marker\": {\"colorbar\": {\"outlinewidth\": 0, \"ticks\": \"\"}}, \"type\": \"scattergeo\"}], \"scattergl\": [{\"marker\": {\"colorbar\": {\"outlinewidth\": 0, \"ticks\": \"\"}}, \"type\": \"scattergl\"}], \"scattermapbox\": [{\"marker\": {\"colorbar\": {\"outlinewidth\": 0, \"ticks\": \"\"}}, \"type\": \"scattermapbox\"}], \"scatterpolar\": [{\"marker\": {\"colorbar\": {\"outlinewidth\": 0, \"ticks\": \"\"}}, \"type\": \"scatterpolar\"}], \"scatterpolargl\": [{\"marker\": {\"colorbar\": {\"outlinewidth\": 0, \"ticks\": \"\"}}, \"type\": \"scatterpolargl\"}], \"scatterternary\": [{\"marker\": {\"colorbar\": {\"outlinewidth\": 0, \"ticks\": \"\"}}, \"type\": \"scatterternary\"}], \"surface\": [{\"colorbar\": {\"outlinewidth\": 0, \"ticks\": \"\"}, \"colorscale\": [[0.0, \"#0d0887\"], [0.1111111111111111, \"#46039f\"], [0.2222222222222222, \"#7201a8\"], [0.3333333333333333, \"#9c179e\"], [0.4444444444444444, \"#bd3786\"], [0.5555555555555556, \"#d8576b\"], [0.6666666666666666, \"#ed7953\"], [0.7777777777777778, \"#fb9f3a\"], [0.8888888888888888, \"#fdca26\"], [1.0, \"#f0f921\"]], \"type\": \"surface\"}], \"table\": [{\"cells\": {\"fill\": {\"color\": \"#EBF0F8\"}, \"line\": {\"color\": \"white\"}}, \"header\": {\"fill\": {\"color\": \"#C8D4E3\"}, \"line\": {\"color\": \"white\"}}, \"type\": \"table\"}]}, \"layout\": {\"annotationdefaults\": {\"arrowcolor\": \"#2a3f5f\", \"arrowhead\": 0, \"arrowwidth\": 1}, \"coloraxis\": {\"colorbar\": {\"outlinewidth\": 0, \"ticks\": \"\"}}, \"colorscale\": {\"diverging\": [[0, \"#8e0152\"], [0.1, \"#c51b7d\"], [0.2, \"#de77ae\"], [0.3, \"#f1b6da\"], [0.4, \"#fde0ef\"], [0.5, \"#f7f7f7\"], [0.6, \"#e6f5d0\"], [0.7, \"#b8e186\"], [0.8, \"#7fbc41\"], [0.9, \"#4d9221\"], [1, \"#276419\"]], \"sequential\": [[0.0, \"#0d0887\"], [0.1111111111111111, \"#46039f\"], [0.2222222222222222, \"#7201a8\"], [0.3333333333333333, \"#9c179e\"], [0.4444444444444444, \"#bd3786\"], [0.5555555555555556, \"#d8576b\"], [0.6666666666666666, \"#ed7953\"], [0.7777777777777778, \"#fb9f3a\"], [0.8888888888888888, \"#fdca26\"], [1.0, \"#f0f921\"]], \"sequentialminus\": [[0.0, \"#0d0887\"], [0.1111111111111111, \"#46039f\"], [0.2222222222222222, \"#7201a8\"], [0.3333333333333333, \"#9c179e\"], [0.4444444444444444, \"#bd3786\"], [0.5555555555555556, \"#d8576b\"], [0.6666666666666666, \"#ed7953\"], [0.7777777777777778, \"#fb9f3a\"], [0.8888888888888888, \"#fdca26\"], [1.0, \"#f0f921\"]]}, \"colorway\": [\"#636efa\", \"#EF553B\", \"#00cc96\", \"#ab63fa\", \"#FFA15A\", \"#19d3f3\", \"#FF6692\", \"#B6E880\", \"#FF97FF\", \"#FECB52\"], \"font\": {\"color\": \"#2a3f5f\"}, \"geo\": {\"bgcolor\": \"white\", \"lakecolor\": \"white\", \"landcolor\": \"#E5ECF6\", \"showlakes\": true, \"showland\": true, \"subunitcolor\": \"white\"}, \"hoverlabel\": {\"align\": \"left\"}, \"hovermode\": \"closest\", \"mapbox\": {\"style\": \"light\"}, \"paper_bgcolor\": \"white\", \"plot_bgcolor\": \"#E5ECF6\", \"polar\": {\"angularaxis\": {\"gridcolor\": \"white\", \"linecolor\": \"white\", \"ticks\": \"\"}, \"bgcolor\": \"#E5ECF6\", \"radialaxis\": {\"gridcolor\": \"white\", \"linecolor\": \"white\", \"ticks\": \"\"}}, \"scene\": {\"xaxis\": {\"backgroundcolor\": \"#E5ECF6\", \"gridcolor\": \"white\", \"gridwidth\": 2, \"linecolor\": \"white\", \"showbackground\": true, \"ticks\": \"\", \"zerolinecolor\": \"white\"}, \"yaxis\": {\"backgroundcolor\": \"#E5ECF6\", \"gridcolor\": \"white\", \"gridwidth\": 2, \"linecolor\": \"white\", \"showbackground\": true, \"ticks\": \"\", \"zerolinecolor\": \"white\"}, \"zaxis\": {\"backgroundcolor\": \"#E5ECF6\", \"gridcolor\": \"white\", \"gridwidth\": 2, \"linecolor\": \"white\", \"showbackground\": true, \"ticks\": \"\", \"zerolinecolor\": \"white\"}}, \"shapedefaults\": {\"line\": {\"color\": \"#2a3f5f\"}}, \"ternary\": {\"aaxis\": {\"gridcolor\": \"white\", \"linecolor\": \"white\", \"ticks\": \"\"}, \"baxis\": {\"gridcolor\": \"white\", \"linecolor\": \"white\", \"ticks\": \"\"}, \"bgcolor\": \"#E5ECF6\", \"caxis\": {\"gridcolor\": \"white\", \"linecolor\": \"white\", \"ticks\": \"\"}}, \"title\": {\"x\": 0.05}, \"xaxis\": {\"automargin\": true, \"gridcolor\": \"white\", \"linecolor\": \"white\", \"ticks\": \"\", \"title\": {\"standoff\": 15}, \"zerolinecolor\": \"white\", \"zerolinewidth\": 2}, \"yaxis\": {\"automargin\": true, \"gridcolor\": \"white\", \"linecolor\": \"white\", \"ticks\": \"\", \"title\": {\"standoff\": 15}, \"zerolinecolor\": \"white\", \"zerolinewidth\": 2}}}, \"title\": {\"text\": \"Distribution of Retail Prices\"}},\n",
              "                        {\"responsive\": true}\n",
              "                    ).then(function(){\n",
              "                            \n",
              "var gd = document.getElementById('055ca275-530e-4b29-a9ad-60acdc213047');\n",
              "var x = new MutationObserver(function (mutations, observer) {{\n",
              "        var display = window.getComputedStyle(gd).display;\n",
              "        if (!display || display === 'none') {{\n",
              "            console.log([gd, 'removed!']);\n",
              "            Plotly.purge(gd);\n",
              "            observer.disconnect();\n",
              "        }}\n",
              "}});\n",
              "\n",
              "// Listen for the removal of the full notebook cells\n",
              "var notebookContainer = gd.closest('#notebook-container');\n",
              "if (notebookContainer) {{\n",
              "    x.observe(notebookContainer, {childList: true});\n",
              "}}\n",
              "\n",
              "// Listen for the clearing of the current output cell\n",
              "var outputEl = gd.closest('.output');\n",
              "if (outputEl) {{\n",
              "    x.observe(outputEl, {childList: true});\n",
              "}}\n",
              "\n",
              "                        })\n",
              "                };\n",
              "                \n",
              "            </script>\n",
              "        </div>\n",
              "</body>\n",
              "</html>"
            ]
          },
          "metadata": {
            "tags": []
          }
        }
      ]
    }
  ]
}