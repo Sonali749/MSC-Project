{
  "nbformat": 4,
  "nbformat_minor": 0,
  "metadata": {
    "colab": {
      "name": "Untitled4.ipynb",
      "provenance": [],
      "authorship_tag": "ABX9TyPY9nZkZ79gGkFUM4ip24zI",
      "include_colab_link": true
    },
    "kernelspec": {
      "name": "python3",
      "display_name": "Python 3"
    },
    "language_info": {
      "name": "python"
    }
  },
  "cells": [
    {
      "cell_type": "markdown",
      "metadata": {
        "id": "view-in-github",
        "colab_type": "text"
      },
      "source": [
        "<a href=\"https://colab.research.google.com/github/Sonali749/MSC-Project/blob/main/Untitled4.ipynb\" target=\"_parent\"><img src=\"https://colab.research.google.com/assets/colab-badge.svg\" alt=\"Open In Colab\"/></a>"
      ]
    },
    {
      "cell_type": "code",
      "metadata": {
        "id": "J1rRIwfKqmJ8"
      },
      "source": [
        "import numpy as np\n",
        "import pandas as pd\n",
        "import matplotlib.pyplot as plt\n",
        "import seaborn as sns\n",
        "import calendar\n",
        "from sklearn.preprocessing import LabelEncoder\n",
        "from sklearn.linear_model import LinearRegression\n",
        "num=LabelEncoder()\n",
        "from sklearn import metrics\n",
        "from sklearn.metrics import classification_report, confusion_matrix, accuracy_score\n",
        "from sklearn.ensemble import RandomForestClassifier\n",
        "from sklearn import preprocessing\n",
        "from sklearn import utils\n",
        "from sklearn.svm import SVR"
      ],
      "execution_count": 1,
      "outputs": []
    },
    {
      "cell_type": "code",
      "metadata": {
        "id": "oouxMDtwqzIs"
      },
      "source": [
        "df = pd.read_csv('/content/Unemployment in india(19-21).csv')"
      ],
      "execution_count": 3,
      "outputs": []
    },
    {
      "cell_type": "code",
      "metadata": {
        "colab": {
          "base_uri": "https://localhost:8080/",
          "height": 195
        },
        "id": "glJD2vapq4DX",
        "outputId": "b807ff0c-5b5a-40c3-bf5c-9974452fb493"
      },
      "source": [
        "df.head()"
      ],
      "execution_count": 4,
      "outputs": [
        {
          "output_type": "execute_result",
          "data": {
            "text/html": [
              "<div>\n",
              "<style scoped>\n",
              "    .dataframe tbody tr th:only-of-type {\n",
              "        vertical-align: middle;\n",
              "    }\n",
              "\n",
              "    .dataframe tbody tr th {\n",
              "        vertical-align: top;\n",
              "    }\n",
              "\n",
              "    .dataframe thead th {\n",
              "        text-align: right;\n",
              "    }\n",
              "</style>\n",
              "<table border=\"1\" class=\"dataframe\">\n",
              "  <thead>\n",
              "    <tr style=\"text-align: right;\">\n",
              "      <th></th>\n",
              "      <th>Region</th>\n",
              "      <th>Date</th>\n",
              "      <th>Frequency</th>\n",
              "      <th>Estimated Unemployment Rate (%)</th>\n",
              "      <th>Estimated Employed</th>\n",
              "      <th>Estimated Labour Participation Rate (%)</th>\n",
              "      <th>Region.1</th>\n",
              "    </tr>\n",
              "  </thead>\n",
              "  <tbody>\n",
              "    <tr>\n",
              "      <th>0</th>\n",
              "      <td>Andhra Pradesh</td>\n",
              "      <td>31-03-2019</td>\n",
              "      <td>M</td>\n",
              "      <td>5.17</td>\n",
              "      <td>16300531</td>\n",
              "      <td>40.64</td>\n",
              "      <td>South</td>\n",
              "    </tr>\n",
              "    <tr>\n",
              "      <th>1</th>\n",
              "      <td>Andhra Pradesh</td>\n",
              "      <td>30-04-2019</td>\n",
              "      <td>M</td>\n",
              "      <td>4.02</td>\n",
              "      <td>17501776</td>\n",
              "      <td>43.05</td>\n",
              "      <td>South</td>\n",
              "    </tr>\n",
              "    <tr>\n",
              "      <th>2</th>\n",
              "      <td>Andhra Pradesh</td>\n",
              "      <td>31-05-2019</td>\n",
              "      <td>M</td>\n",
              "      <td>4.36</td>\n",
              "      <td>16787801</td>\n",
              "      <td>41.38</td>\n",
              "      <td>South</td>\n",
              "    </tr>\n",
              "    <tr>\n",
              "      <th>3</th>\n",
              "      <td>Andhra Pradesh</td>\n",
              "      <td>30-06-2019</td>\n",
              "      <td>M</td>\n",
              "      <td>3.27</td>\n",
              "      <td>16580510</td>\n",
              "      <td>40.35</td>\n",
              "      <td>South</td>\n",
              "    </tr>\n",
              "    <tr>\n",
              "      <th>4</th>\n",
              "      <td>Andhra Pradesh</td>\n",
              "      <td>31-07-2019</td>\n",
              "      <td>M</td>\n",
              "      <td>4.29</td>\n",
              "      <td>16744148</td>\n",
              "      <td>41.12</td>\n",
              "      <td>South</td>\n",
              "    </tr>\n",
              "  </tbody>\n",
              "</table>\n",
              "</div>"
            ],
            "text/plain": [
              "           Region  ... Region.1\n",
              "0  Andhra Pradesh  ...    South\n",
              "1  Andhra Pradesh  ...    South\n",
              "2  Andhra Pradesh  ...    South\n",
              "3  Andhra Pradesh  ...    South\n",
              "4  Andhra Pradesh  ...    South\n",
              "\n",
              "[5 rows x 7 columns]"
            ]
          },
          "metadata": {
            "tags": []
          },
          "execution_count": 4
        }
      ]
    },
    {
      "cell_type": "code",
      "metadata": {
        "id": "-rjWTMhily5U"
      },
      "source": [
        "df.columns =['States','Date','Frequency','Estimated Unemployment Rate (%)','Estimated Employed','Estimated Labour Participation Rate (%)','Region']\n"
      ],
      "execution_count": 5,
      "outputs": []
    },
    {
      "cell_type": "code",
      "metadata": {
        "id": "gMQfw4-8moq3"
      },
      "source": [
        "df.dropna(inplace=True)"
      ],
      "execution_count": 6,
      "outputs": []
    },
    {
      "cell_type": "code",
      "metadata": {
        "colab": {
          "base_uri": "https://localhost:8080/"
        },
        "id": "HKsD0t__mrV0",
        "outputId": "cff68afc-3ce4-465f-9289-c3d4994dbf98"
      },
      "source": [
        "df.isnull().sum()"
      ],
      "execution_count": 7,
      "outputs": [
        {
          "output_type": "execute_result",
          "data": {
            "text/plain": [
              "States                                     0\n",
              "Date                                       0\n",
              "Frequency                                  0\n",
              "Estimated Unemployment Rate (%)            0\n",
              "Estimated Employed                         0\n",
              "Estimated Labour Participation Rate (%)    0\n",
              "Region                                     0\n",
              "dtype: int64"
            ]
          },
          "metadata": {
            "tags": []
          },
          "execution_count": 7
        }
      ]
    },
    {
      "cell_type": "code",
      "metadata": {
        "id": "L29dfodKq-8O"
      },
      "source": [
        "df['Region']=num.fit_transform(df['Region']).astype('int')\n",
        "\n"
      ],
      "execution_count": 8,
      "outputs": []
    },
    {
      "cell_type": "code",
      "metadata": {
        "id": "nWZ5LZLwrigR"
      },
      "source": [
        "df['Date'] = pd.to_datetime(df['Date'],dayfirst=True)"
      ],
      "execution_count": 9,
      "outputs": []
    },
    {
      "cell_type": "code",
      "metadata": {
        "id": "-FM0yUEOm_2p"
      },
      "source": [
        "df['Month'] =  df['Date'].dt.month\n"
      ],
      "execution_count": 10,
      "outputs": []
    },
    {
      "cell_type": "code",
      "metadata": {
        "id": "rtP_KbjinDMz"
      },
      "source": [
        "df.drop(columns='Date',inplace=True)"
      ],
      "execution_count": 11,
      "outputs": []
    },
    {
      "cell_type": "code",
      "metadata": {
        "id": "_8uzRAFZnMjg"
      },
      "source": [
        "df.drop(columns='Frequency',inplace=True)"
      ],
      "execution_count": 12,
      "outputs": []
    },
    {
      "cell_type": "code",
      "metadata": {
        "id": "khkovpT2nRMt"
      },
      "source": [
        "df['States']=num.fit_transform(df['States']).astype('int')\n"
      ],
      "execution_count": 13,
      "outputs": []
    },
    {
      "cell_type": "code",
      "metadata": {
        "id": "Qe-7JOHonYM9"
      },
      "source": [
        "df1=df.round(0).astype(int)"
      ],
      "execution_count": 14,
      "outputs": []
    },
    {
      "cell_type": "code",
      "metadata": {
        "id": "YPGBpty5ne17"
      },
      "source": [
        "from sklearn.model_selection import train_test_split"
      ],
      "execution_count": 84,
      "outputs": []
    },
    {
      "cell_type": "code",
      "metadata": {
        "id": "I1a08MOhnjF_"
      },
      "source": [
        "predictors = ['Estimated Unemployment Rate (%)','Estimated Employed']\n",
        "X = df1[predictors]\n",
        "y = df1['Region']"
      ],
      "execution_count": 85,
      "outputs": []
    },
    {
      "cell_type": "code",
      "metadata": {
        "id": "43XEXVk3ns5t"
      },
      "source": [
        "X_train, X_test, y_train, y_test = train_test_split(X, y, test_size=0.2, random_state=42)"
      ],
      "execution_count": 86,
      "outputs": []
    },
    {
      "cell_type": "code",
      "metadata": {
        "id": "IW6m0aq1nw7O"
      },
      "source": [
        "from sklearn.tree import DecisionTreeClassifier"
      ],
      "execution_count": 87,
      "outputs": []
    },
    {
      "cell_type": "code",
      "metadata": {
        "id": "Tz40tyFYn1pE"
      },
      "source": [
        "dct=DecisionTreeClassifier(random_state=42)"
      ],
      "execution_count": 88,
      "outputs": []
    },
    {
      "cell_type": "code",
      "metadata": {
        "colab": {
          "base_uri": "https://localhost:8080/"
        },
        "id": "GP2ZwO81n6SN",
        "outputId": "549135f6-ab44-43c5-b75c-5651e8856f4c"
      },
      "source": [
        "dct.fit(X_train,y_train)"
      ],
      "execution_count": 89,
      "outputs": [
        {
          "output_type": "execute_result",
          "data": {
            "text/plain": [
              "DecisionTreeClassifier(ccp_alpha=0.0, class_weight=None, criterion='gini',\n",
              "                       max_depth=None, max_features=None, max_leaf_nodes=None,\n",
              "                       min_impurity_decrease=0.0, min_impurity_split=None,\n",
              "                       min_samples_leaf=1, min_samples_split=2,\n",
              "                       min_weight_fraction_leaf=0.0, presort='deprecated',\n",
              "                       random_state=42, splitter='best')"
            ]
          },
          "metadata": {
            "tags": []
          },
          "execution_count": 89
        }
      ]
    },
    {
      "cell_type": "code",
      "metadata": {
        "id": "HBL9m9nhn-bi"
      },
      "source": [
        "y_predictions=dct.predict(X_test)"
      ],
      "execution_count": 90,
      "outputs": []
    },
    {
      "cell_type": "code",
      "metadata": {
        "colab": {
          "base_uri": "https://localhost:8080/"
        },
        "id": "5LbbsqsEoCaf",
        "outputId": "b11a4efc-7e42-492f-8e87-a8193f72fd39"
      },
      "source": [
        "accuracy_score(y_test,y_predictions)"
      ],
      "execution_count": 91,
      "outputs": [
        {
          "output_type": "execute_result",
          "data": {
            "text/plain": [
              "0.689922480620155"
            ]
          },
          "metadata": {
            "tags": []
          },
          "execution_count": 91
        }
      ]
    },
    {
      "cell_type": "code",
      "metadata": {
        "colab": {
          "base_uri": "https://localhost:8080/"
        },
        "id": "x4p98-_YyTwZ",
        "outputId": "5d0f1ebf-4cd8-4dbe-e830-89a89f7fbea4"
      },
      "source": [
        "print(classification_report(y_test, y_predictions))"
      ],
      "execution_count": 92,
      "outputs": [
        {
          "output_type": "stream",
          "text": [
            "              precision    recall  f1-score   support\n",
            "\n",
            "           0       0.72      0.52      0.60        25\n",
            "           1       0.87      0.85      0.86        40\n",
            "           2       0.93      0.81      0.87        16\n",
            "           3       0.45      0.62      0.53        24\n",
            "           4       0.56      0.58      0.57        24\n",
            "\n",
            "    accuracy                           0.69       129\n",
            "   macro avg       0.71      0.68      0.69       129\n",
            "weighted avg       0.71      0.69      0.70       129\n",
            "\n"
          ],
          "name": "stdout"
        }
      ]
    },
    {
      "cell_type": "code",
      "metadata": {
        "colab": {
          "base_uri": "https://localhost:8080/"
        },
        "id": "7_lSVBJZyeou",
        "outputId": "965fb38e-f512-40b9-8699-23096129b118"
      },
      "source": [
        "cm = confusion_matrix(y_test, y_predictions)\n",
        "cm"
      ],
      "execution_count": 93,
      "outputs": [
        {
          "output_type": "execute_result",
          "data": {
            "text/plain": [
              "array([[13,  2,  1,  4,  5],\n",
              "       [ 3, 34,  0,  3,  0],\n",
              "       [ 0,  0, 13,  2,  1],\n",
              "       [ 2,  2,  0, 15,  5],\n",
              "       [ 0,  1,  0,  9, 14]])"
            ]
          },
          "metadata": {
            "tags": []
          },
          "execution_count": 93
        }
      ]
    },
    {
      "cell_type": "code",
      "metadata": {
        "colab": {
          "base_uri": "https://localhost:8080/",
          "height": 240
        },
        "id": "WULW_u9NymCw",
        "outputId": "5fddbe4c-75e8-4a31-fe76-6b6f706778ac"
      },
      "source": [
        "sns.set(font_scale=1.4)\n",
        "\n",
        "def plot_conf_mat(y_test, y_predictions):\n",
        "    fig, ax = plt.subplots(figsize=(3, 3))\n",
        "    ax = sns.heatmap(confusion_matrix(y_test, y_predictions),\n",
        "                     annot=True,\n",
        "                     cbar=False)\n",
        "    plt.xlabel(\"True label\")\n",
        "    plt.ylabel(\"Predicted label\")\n",
        "    \n",
        "\n",
        "    bottom, top = ax.get_ylim()\n",
        "    ax.set_ylim(bottom + 0.5, top - 0.5)\n",
        "    \n",
        "plot_conf_mat(y_test, y_predictions)"
      ],
      "execution_count": 94,
      "outputs": [
        {
          "output_type": "display_data",
          "data": {
            "image/png": "[encoded data removed]",
            "text/plain": [
              "<Figure size 216x216 with 1 Axes>"
            ]
          },
          "metadata": {
            "tags": []
          }
        }
      ]
    },
    {
      "cell_type": "code",
      "metadata": {
        "id": "4IXmZkXVwTy2"
      },
      "source": [
        "from sklearn.ensemble import RandomForestClassifier"
      ],
      "execution_count": 95,
      "outputs": []
    },
    {
      "cell_type": "code",
      "metadata": {
        "id": "wtA1G7Pewj7D"
      },
      "source": [
        "rf=RandomForestClassifier(n_estimators=500)"
      ],
      "execution_count": 96,
      "outputs": []
    },
    {
      "cell_type": "code",
      "metadata": {
        "colab": {
          "base_uri": "https://localhost:8080/"
        },
        "id": "5J230AhYwpav",
        "outputId": "b272831c-704b-4569-9256-bb7222a20081"
      },
      "source": [
        "rf.fit(X_train,y_train)"
      ],
      "execution_count": 97,
      "outputs": [
        {
          "output_type": "execute_result",
          "data": {
            "text/plain": [
              "RandomForestClassifier(bootstrap=True, ccp_alpha=0.0, class_weight=None,\n",
              "                       criterion='gini', max_depth=None, max_features='auto',\n",
              "                       max_leaf_nodes=None, max_samples=None,\n",
              "                       min_impurity_decrease=0.0, min_impurity_split=None,\n",
              "                       min_samples_leaf=1, min_samples_split=2,\n",
              "                       min_weight_fraction_leaf=0.0, n_estimators=500,\n",
              "                       n_jobs=None, oob_score=False, random_state=None,\n",
              "                       verbose=0, warm_start=False)"
            ]
          },
          "metadata": {
            "tags": []
          },
          "execution_count": 97
        }
      ]
    },
    {
      "cell_type": "code",
      "metadata": {
        "id": "vhS0CNBmwvNJ"
      },
      "source": [
        "y_predictions=rf.predict(X_test)"
      ],
      "execution_count": 98,
      "outputs": []
    },
    {
      "cell_type": "code",
      "metadata": {
        "colab": {
          "base_uri": "https://localhost:8080/"
        },
        "id": "l7661uedw0KL",
        "outputId": "e90c2ace-5ee3-4a85-ea87-6ee327530120"
      },
      "source": [
        "accuracy_score(y_test,y_predictions)"
      ],
      "execution_count": 99,
      "outputs": [
        {
          "output_type": "execute_result",
          "data": {
            "text/plain": [
              "0.7441860465116279"
            ]
          },
          "metadata": {
            "tags": []
          },
          "execution_count": 99
        }
      ]
    },
    {
      "cell_type": "code",
      "metadata": {
        "colab": {
          "base_uri": "https://localhost:8080/"
        },
        "id": "HutKvnaey8MF",
        "outputId": "284a8d31-abca-46aa-e7c2-3f0a877d5813"
      },
      "source": [
        "print(classification_report(y_test, y_predictions))\n"
      ],
      "execution_count": 100,
      "outputs": [
        {
          "output_type": "stream",
          "text": [
            "              precision    recall  f1-score   support\n",
            "\n",
            "           0       0.89      0.68      0.77        25\n",
            "           1       0.85      0.82      0.84        40\n",
            "           2       0.76      0.81      0.79        16\n",
            "           3       0.56      0.75      0.64        24\n",
            "           4       0.68      0.62      0.65        24\n",
            "\n",
            "    accuracy                           0.74       129\n",
            "   macro avg       0.75      0.74      0.74       129\n",
            "weighted avg       0.76      0.74      0.75       129\n",
            "\n"
          ],
          "name": "stdout"
        }
      ]
    },
    {
      "cell_type": "code",
      "metadata": {
        "colab": {
          "base_uri": "https://localhost:8080/"
        },
        "id": "6gU--5XdzJsT",
        "outputId": "d1becd8f-2352-44a2-ca5e-404a6530cd51"
      },
      "source": [
        "cm = confusion_matrix(y_test, y_predictions)\n",
        "cm"
      ],
      "execution_count": 101,
      "outputs": [
        {
          "output_type": "execute_result",
          "data": {
            "text/plain": [
              "array([[17,  3,  0,  2,  3],\n",
              "       [ 2, 33,  2,  2,  1],\n",
              "       [ 0,  0, 13,  3,  0],\n",
              "       [ 0,  2,  1, 18,  3],\n",
              "       [ 0,  1,  1,  7, 15]])"
            ]
          },
          "metadata": {
            "tags": []
          },
          "execution_count": 101
        }
      ]
    },
    {
      "cell_type": "code",
      "metadata": {
        "colab": {
          "base_uri": "https://localhost:8080/"
        },
        "id": "iHH4UI0xzOxb",
        "outputId": "b6e99d27-9ed3-420e-da57-90606e9f1dc3"
      },
      "source": [
        "accuracy_score(y_test,y_predictions)"
      ],
      "execution_count": 102,
      "outputs": [
        {
          "output_type": "execute_result",
          "data": {
            "text/plain": [
              "0.7441860465116279"
            ]
          },
          "metadata": {
            "tags": []
          },
          "execution_count": 102
        }
      ]
    },
    {
      "cell_type": "code",
      "metadata": {
        "colab": {
          "base_uri": "https://localhost:8080/",
          "height": 290
        },
        "id": "x1d0srNmzXHZ",
        "outputId": "318662ff-dbc3-4966-b96f-f8b514490f69"
      },
      "source": [
        "conf_matrix=confusion_matrix(y_test,y_predictions)\n",
        "sns.heatmap(conf_matrix, annot=True, cmap='Blues')"
      ],
      "execution_count": 103,
      "outputs": [
        {
          "output_type": "execute_result",
          "data": {
            "text/plain": [
              "<matplotlib.axes._subplots.AxesSubplot at 0x7fb44b601150>"
            ]
          },
          "metadata": {
            "tags": []
          },
          "execution_count": 103
        },
        {
          "output_type": "display_data",
          "data": {
            "image/png": "[encoded data removed]",
            "text/plain": [
              "<Figure size 432x288 with 2 Axes>"
            ]
          },
          "metadata": {
            "tags": []
          }
        }
      ]
    },
    {
      "cell_type": "code",
      "metadata": {
        "id": "dGDNiWKQw4lH"
      },
      "source": [
        "from sklearn.linear_model import LogisticRegression"
      ],
      "execution_count": 71,
      "outputs": []
    },
    {
      "cell_type": "code",
      "metadata": {
        "id": "t9YckEt-xBWA"
      },
      "source": [
        "logr=LogisticRegression(C=0.01,max_iter=1000,random_state=42)"
      ],
      "execution_count": 72,
      "outputs": []
    },
    {
      "cell_type": "code",
      "metadata": {
        "colab": {
          "base_uri": "https://localhost:8080/"
        },
        "id": "tFKkRGjvxHyA",
        "outputId": "f41acfe3-af0e-4302-9421-7cd3564f4f60"
      },
      "source": [
        "logr.fit(X_train,y_train)"
      ],
      "execution_count": 73,
      "outputs": [
        {
          "output_type": "execute_result",
          "data": {
            "text/plain": [
              "LogisticRegression(C=0.01, class_weight=None, dual=False, fit_intercept=True,\n",
              "                   intercept_scaling=1, l1_ratio=None, max_iter=1000,\n",
              "                   multi_class='auto', n_jobs=None, penalty='l2',\n",
              "                   random_state=42, solver='lbfgs', tol=0.0001, verbose=0,\n",
              "                   warm_start=False)"
            ]
          },
          "metadata": {
            "tags": []
          },
          "execution_count": 73
        }
      ]
    },
    {
      "cell_type": "code",
      "metadata": {
        "id": "uaUYNpwuxMHH"
      },
      "source": [
        "y_predictions=logr.predict(X_test)"
      ],
      "execution_count": 74,
      "outputs": []
    },
    {
      "cell_type": "code",
      "metadata": {
        "colab": {
          "base_uri": "https://localhost:8080/"
        },
        "id": "IkNbuxNGxQ2m",
        "outputId": "7bb62df6-27ac-4d50-b1b4-aa08c76e271a"
      },
      "source": [
        "print(accuracy_score(y_predictions,y_test))"
      ],
      "execution_count": 75,
      "outputs": [
        {
          "output_type": "stream",
          "text": [
            "0.31007751937984496\n"
          ],
          "name": "stdout"
        }
      ]
    },
    {
      "cell_type": "code",
      "metadata": {
        "id": "ufx5duRBxVOR"
      },
      "source": [
        "from sklearn import svm"
      ],
      "execution_count": 76,
      "outputs": []
    },
    {
      "cell_type": "code",
      "metadata": {
        "id": "88y2t9RBxbiH"
      },
      "source": [
        "svmf = svm.SVC(C=100000, kernel='rbf', degree=3)"
      ],
      "execution_count": 77,
      "outputs": []
    },
    {
      "cell_type": "code",
      "metadata": {
        "id": "1MpkDI-6xfgJ"
      },
      "source": [
        "model_svm = svmf.fit(X_train, y_train)"
      ],
      "execution_count": 78,
      "outputs": []
    },
    {
      "cell_type": "code",
      "metadata": {
        "id": "tyF2OZiZxlK4"
      },
      "source": [
        "pred_svm = model_svm.predict(X_test)"
      ],
      "execution_count": 79,
      "outputs": []
    },
    {
      "cell_type": "code",
      "metadata": {
        "colab": {
          "base_uri": "https://localhost:8080/"
        },
        "id": "IU_th8h8xo6K",
        "outputId": "95177e6b-9a60-499d-ac23-c909f7b06f68"
      },
      "source": [
        "wyp_test_score_svm = accuracy_score(y_test, pred_svm)*100\n",
        "wyp_test_score_svm"
      ],
      "execution_count": 80,
      "outputs": [
        {
          "output_type": "execute_result",
          "data": {
            "text/plain": [
              "64.34108527131784"
            ]
          },
          "metadata": {
            "tags": []
          },
          "execution_count": 80
        }
      ]
    }
  ]
}