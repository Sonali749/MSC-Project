{
  "nbformat": 4,
  "nbformat_minor": 0,
  "metadata": {
    "colab": {
      "name": "Unemployment.ipynb",
      "provenance": [],
      "collapsed_sections": [],
      "authorship_tag": "ABX9TyOg+2dgvyI7KbJpp2MNrK0a",
      "include_colab_link": true
    },
    "kernelspec": {
      "name": "python3",
      "display_name": "Python 3"
    },
    "language_info": {
      "name": "python"
    }
  },
  "cells": [
    {
      "cell_type": "markdown",
      "metadata": {
        "id": "view-in-github",
        "colab_type": "text"
      },
      "source": [
        "<a href=\"https://colab.research.google.com/github/Sonali749/MSC-Project/blob/main/Unemployment.ipynb\" target=\"_parent\"><img src=\"https://colab.research.google.com/assets/colab-badge.svg\" alt=\"Open In Colab\"/></a>"
      ]
    },
    {
      "cell_type": "code",
      "metadata": {
        "id": "3z3eSwuitAiy"
      },
      "source": [
        "import numpy as np\n",
        "import pandas as pd\n",
        "import matplotlib.pyplot as plt\n",
        "import seaborn as sns\n",
        "import calendar"
      ],
      "execution_count": 1,
      "outputs": []
    },
    {
      "cell_type": "code",
      "metadata": {
        "colab": {
          "base_uri": "https://localhost:8080/"
        },
        "id": "sqB5lLyyzLo2",
        "outputId": "cfa6f69b-3c13-4ebc-a082-a43708600022"
      },
      "source": [
        "import datetime as dt\n",
        "import plotly.io as pio\n",
        "pio.templates"
      ],
      "execution_count": 2,
      "outputs": [
        {
          "output_type": "execute_result",
          "data": {
            "text/plain": [
              "Templates configuration\n",
              "-----------------------\n",
              "    Default template: 'plotly'\n",
              "    Available templates:\n",
              "        ['ggplot2', 'seaborn', 'simple_white', 'plotly',\n",
              "         'plotly_white', 'plotly_dark', 'presentation', 'xgridoff',\n",
              "         'ygridoff', 'gridon', 'none']"
            ]
          },
          "metadata": {
            "tags": []
          },
          "execution_count": 2
        }
      ]
    },
    {
      "cell_type": "code",
      "metadata": {
        "id": "t97ML2RezfIm"
      },
      "source": [
        "import plotly.express as px\n",
        "import plotly.graph_objects as go\n",
        "import plotly.figure_factory as ff\n",
        "from IPython.display import HTML"
      ],
      "execution_count": 3,
      "outputs": []
    },
    {
      "cell_type": "code",
      "metadata": {
        "id": "s39ogpoLzt-V"
      },
      "source": [
        "dataset = pd.read_csv('/content/Unemployment_Rate_upto_11_2020.csv')\n"
      ],
      "execution_count": 4,
      "outputs": []
    },
    {
      "cell_type": "code",
      "metadata": {
        "colab": {
          "base_uri": "https://localhost:8080/",
          "height": 296
        },
        "id": "mV_I9CwS0Lug",
        "outputId": "4fac336c-1d93-4ea7-bbf8-b7e656376fbb"
      },
      "source": [
        "dataset.head()"
      ],
      "execution_count": 5,
      "outputs": [
        {
          "output_type": "execute_result",
          "data": {
            "text/html": [
              "<div>\n",
              "<style scoped>\n",
              "    .dataframe tbody tr th:only-of-type {\n",
              "        vertical-align: middle;\n",
              "    }\n",
              "\n",
              "    .dataframe tbody tr th {\n",
              "        vertical-align: top;\n",
              "    }\n",
              "\n",
              "    .dataframe thead th {\n",
              "        text-align: right;\n",
              "    }\n",
              "</style>\n",
              "<table border=\"1\" class=\"dataframe\">\n",
              "  <thead>\n",
              "    <tr style=\"text-align: right;\">\n",
              "      <th></th>\n",
              "      <th>Region</th>\n",
              "      <th>Date</th>\n",
              "      <th>Frequency</th>\n",
              "      <th>Estimated Unemployment Rate (%)</th>\n",
              "      <th>Estimated Employed</th>\n",
              "      <th>Estimated Labour Participation Rate (%)</th>\n",
              "      <th>Region.1</th>\n",
              "      <th>longitude</th>\n",
              "      <th>latitude</th>\n",
              "    </tr>\n",
              "  </thead>\n",
              "  <tbody>\n",
              "    <tr>\n",
              "      <th>0</th>\n",
              "      <td>Andhra Pradesh</td>\n",
              "      <td>31-03-2020</td>\n",
              "      <td>M</td>\n",
              "      <td>5.48</td>\n",
              "      <td>16635535</td>\n",
              "      <td>41.02</td>\n",
              "      <td>South</td>\n",
              "      <td>15.9129</td>\n",
              "      <td>79.74</td>\n",
              "    </tr>\n",
              "    <tr>\n",
              "      <th>1</th>\n",
              "      <td>Andhra Pradesh</td>\n",
              "      <td>29-03-2020</td>\n",
              "      <td>M</td>\n",
              "      <td>5.83</td>\n",
              "      <td>16545652</td>\n",
              "      <td>40.90</td>\n",
              "      <td>South</td>\n",
              "      <td>15.9129</td>\n",
              "      <td>79.74</td>\n",
              "    </tr>\n",
              "    <tr>\n",
              "      <th>2</th>\n",
              "      <td>Andhra Pradesh</td>\n",
              "      <td>31-03-2020</td>\n",
              "      <td>M</td>\n",
              "      <td>5.79</td>\n",
              "      <td>15881197</td>\n",
              "      <td>39.18</td>\n",
              "      <td>South</td>\n",
              "      <td>15.9129</td>\n",
              "      <td>79.74</td>\n",
              "    </tr>\n",
              "    <tr>\n",
              "      <th>3</th>\n",
              "      <td>Andhra Pradesh</td>\n",
              "      <td>30-04-2020</td>\n",
              "      <td>M</td>\n",
              "      <td>20.51</td>\n",
              "      <td>11336911</td>\n",
              "      <td>33.10</td>\n",
              "      <td>South</td>\n",
              "      <td>15.9129</td>\n",
              "      <td>79.74</td>\n",
              "    </tr>\n",
              "    <tr>\n",
              "      <th>4</th>\n",
              "      <td>Andhra Pradesh</td>\n",
              "      <td>31-05-2020</td>\n",
              "      <td>M</td>\n",
              "      <td>17.43</td>\n",
              "      <td>12988845</td>\n",
              "      <td>36.46</td>\n",
              "      <td>South</td>\n",
              "      <td>15.9129</td>\n",
              "      <td>79.74</td>\n",
              "    </tr>\n",
              "  </tbody>\n",
              "</table>\n",
              "</div>"
            ],
            "text/plain": [
              "           Region         Date  Frequency  ...  Region.1  longitude  latitude\n",
              "0  Andhra Pradesh   31-03-2020          M  ...     South    15.9129     79.74\n",
              "1  Andhra Pradesh   29-03-2020          M  ...     South    15.9129     79.74\n",
              "2  Andhra Pradesh   31-03-2020          M  ...     South    15.9129     79.74\n",
              "3  Andhra Pradesh   30-04-2020          M  ...     South    15.9129     79.74\n",
              "4  Andhra Pradesh   31-05-2020          M  ...     South    15.9129     79.74\n",
              "\n",
              "[5 rows x 9 columns]"
            ]
          },
          "metadata": {
            "tags": []
          },
          "execution_count": 5
        }
      ]
    },
    {
      "cell_type": "code",
      "metadata": {
        "colab": {
          "base_uri": "https://localhost:8080/",
          "height": 296
        },
        "id": "Lo-mo_zIjAbF",
        "outputId": "68b31aa0-a0e3-452e-dcd3-413131e61758"
      },
      "source": [
        "dataset.tail()"
      ],
      "execution_count": 6,
      "outputs": [
        {
          "output_type": "execute_result",
          "data": {
            "text/html": [
              "<div>\n",
              "<style scoped>\n",
              "    .dataframe tbody tr th:only-of-type {\n",
              "        vertical-align: middle;\n",
              "    }\n",
              "\n",
              "    .dataframe tbody tr th {\n",
              "        vertical-align: top;\n",
              "    }\n",
              "\n",
              "    .dataframe thead th {\n",
              "        text-align: right;\n",
              "    }\n",
              "</style>\n",
              "<table border=\"1\" class=\"dataframe\">\n",
              "  <thead>\n",
              "    <tr style=\"text-align: right;\">\n",
              "      <th></th>\n",
              "      <th>Region</th>\n",
              "      <th>Date</th>\n",
              "      <th>Frequency</th>\n",
              "      <th>Estimated Unemployment Rate (%)</th>\n",
              "      <th>Estimated Employed</th>\n",
              "      <th>Estimated Labour Participation Rate (%)</th>\n",
              "      <th>Region.1</th>\n",
              "      <th>longitude</th>\n",
              "      <th>latitude</th>\n",
              "    </tr>\n",
              "  </thead>\n",
              "  <tbody>\n",
              "    <tr>\n",
              "      <th>262</th>\n",
              "      <td>West Bengal</td>\n",
              "      <td>30-06-2020</td>\n",
              "      <td>M</td>\n",
              "      <td>7.29</td>\n",
              "      <td>30726310</td>\n",
              "      <td>40.39</td>\n",
              "      <td>East</td>\n",
              "      <td>22.9868</td>\n",
              "      <td>87.855</td>\n",
              "    </tr>\n",
              "    <tr>\n",
              "      <th>263</th>\n",
              "      <td>West Bengal</td>\n",
              "      <td>31-07-2020</td>\n",
              "      <td>M</td>\n",
              "      <td>6.83</td>\n",
              "      <td>35372506</td>\n",
              "      <td>46.17</td>\n",
              "      <td>East</td>\n",
              "      <td>22.9868</td>\n",
              "      <td>87.855</td>\n",
              "    </tr>\n",
              "    <tr>\n",
              "      <th>264</th>\n",
              "      <td>West Bengal</td>\n",
              "      <td>31-08-2020</td>\n",
              "      <td>M</td>\n",
              "      <td>14.87</td>\n",
              "      <td>33298644</td>\n",
              "      <td>47.48</td>\n",
              "      <td>East</td>\n",
              "      <td>22.9868</td>\n",
              "      <td>87.855</td>\n",
              "    </tr>\n",
              "    <tr>\n",
              "      <th>265</th>\n",
              "      <td>West Bengal</td>\n",
              "      <td>30-09-2020</td>\n",
              "      <td>M</td>\n",
              "      <td>9.35</td>\n",
              "      <td>35707239</td>\n",
              "      <td>47.73</td>\n",
              "      <td>East</td>\n",
              "      <td>22.9868</td>\n",
              "      <td>87.855</td>\n",
              "    </tr>\n",
              "    <tr>\n",
              "      <th>266</th>\n",
              "      <td>West Bengal</td>\n",
              "      <td>31-10-2020</td>\n",
              "      <td>M</td>\n",
              "      <td>9.98</td>\n",
              "      <td>33962549</td>\n",
              "      <td>45.63</td>\n",
              "      <td>East</td>\n",
              "      <td>22.9868</td>\n",
              "      <td>87.855</td>\n",
              "    </tr>\n",
              "  </tbody>\n",
              "</table>\n",
              "</div>"
            ],
            "text/plain": [
              "          Region         Date  Frequency  ...  Region.1  longitude  latitude\n",
              "262  West Bengal   30-06-2020          M  ...      East    22.9868    87.855\n",
              "263  West Bengal   31-07-2020          M  ...      East    22.9868    87.855\n",
              "264  West Bengal   31-08-2020          M  ...      East    22.9868    87.855\n",
              "265  West Bengal   30-09-2020          M  ...      East    22.9868    87.855\n",
              "266  West Bengal   31-10-2020          M  ...      East    22.9868    87.855\n",
              "\n",
              "[5 rows x 9 columns]"
            ]
          },
          "metadata": {
            "tags": []
          },
          "execution_count": 6
        }
      ]
    },
    {
      "cell_type": "code",
      "metadata": {
        "colab": {
          "base_uri": "https://localhost:8080/"
        },
        "id": "MAGlH0Tc0Uq-",
        "outputId": "35f021b8-f47b-488e-bf64-11a0c6449fb6"
      },
      "source": [
        "dataset.info()"
      ],
      "execution_count": null,
      "outputs": [
        {
          "output_type": "stream",
          "text": [
            "<class 'pandas.core.frame.DataFrame'>\n",
            "RangeIndex: 267 entries, 0 to 266\n",
            "Data columns (total 9 columns):\n",
            " #   Column                                    Non-Null Count  Dtype  \n",
            "---  ------                                    --------------  -----  \n",
            " 0   Region                                    267 non-null    object \n",
            " 1    Date                                     267 non-null    object \n",
            " 2    Frequency                                267 non-null    object \n",
            " 3    Estimated Unemployment Rate (%)          267 non-null    float64\n",
            " 4    Estimated Employed                       267 non-null    int64  \n",
            " 5    Estimated Labour Participation Rate (%)  267 non-null    float64\n",
            " 6   Region.1                                  267 non-null    object \n",
            " 7   longitude                                 267 non-null    float64\n",
            " 8   latitude                                  267 non-null    float64\n",
            "dtypes: float64(4), int64(1), object(4)\n",
            "memory usage: 18.9+ KB\n"
          ],
          "name": "stdout"
        }
      ]
    },
    {
      "cell_type": "code",
      "metadata": {
        "colab": {
          "base_uri": "https://localhost:8080/",
          "height": 284
        },
        "id": "TnWXls4llYuc",
        "outputId": "a9d5aca2-58e6-4c7f-eab9-101ef78f694d"
      },
      "source": [
        "dataset.describe()"
      ],
      "execution_count": null,
      "outputs": [
        {
          "output_type": "execute_result",
          "data": {
            "text/html": [
              "<div>\n",
              "<style scoped>\n",
              "    .dataframe tbody tr th:only-of-type {\n",
              "        vertical-align: middle;\n",
              "    }\n",
              "\n",
              "    .dataframe tbody tr th {\n",
              "        vertical-align: top;\n",
              "    }\n",
              "\n",
              "    .dataframe thead th {\n",
              "        text-align: right;\n",
              "    }\n",
              "</style>\n",
              "<table border=\"1\" class=\"dataframe\">\n",
              "  <thead>\n",
              "    <tr style=\"text-align: right;\">\n",
              "      <th></th>\n",
              "      <th>Estimated Unemployment Rate</th>\n",
              "      <th>Estimated Employed</th>\n",
              "      <th>Estimated Labour Participation Rate</th>\n",
              "      <th>longitude</th>\n",
              "      <th>latitude</th>\n",
              "      <th>Month</th>\n",
              "      <th>Month_int</th>\n",
              "    </tr>\n",
              "  </thead>\n",
              "  <tbody>\n",
              "    <tr>\n",
              "      <th>count</th>\n",
              "      <td>267.000000</td>\n",
              "      <td>2.670000e+02</td>\n",
              "      <td>267.000000</td>\n",
              "      <td>267.000000</td>\n",
              "      <td>267.000000</td>\n",
              "      <td>267.000000</td>\n",
              "      <td>267.000000</td>\n",
              "    </tr>\n",
              "    <tr>\n",
              "      <th>mean</th>\n",
              "      <td>12.236929</td>\n",
              "      <td>1.396211e+07</td>\n",
              "      <td>41.681573</td>\n",
              "      <td>22.826048</td>\n",
              "      <td>80.532425</td>\n",
              "      <td>5.546816</td>\n",
              "      <td>5.546816</td>\n",
              "    </tr>\n",
              "    <tr>\n",
              "      <th>std</th>\n",
              "      <td>10.803283</td>\n",
              "      <td>1.336632e+07</td>\n",
              "      <td>7.845419</td>\n",
              "      <td>6.270731</td>\n",
              "      <td>5.831738</td>\n",
              "      <td>2.857627</td>\n",
              "      <td>2.857627</td>\n",
              "    </tr>\n",
              "    <tr>\n",
              "      <th>min</th>\n",
              "      <td>0.500000</td>\n",
              "      <td>1.175420e+05</td>\n",
              "      <td>16.770000</td>\n",
              "      <td>10.850500</td>\n",
              "      <td>71.192400</td>\n",
              "      <td>1.000000</td>\n",
              "      <td>1.000000</td>\n",
              "    </tr>\n",
              "    <tr>\n",
              "      <th>25%</th>\n",
              "      <td>4.845000</td>\n",
              "      <td>2.838930e+06</td>\n",
              "      <td>37.265000</td>\n",
              "      <td>18.112400</td>\n",
              "      <td>76.085600</td>\n",
              "      <td>3.000000</td>\n",
              "      <td>3.000000</td>\n",
              "    </tr>\n",
              "    <tr>\n",
              "      <th>50%</th>\n",
              "      <td>9.650000</td>\n",
              "      <td>9.732417e+06</td>\n",
              "      <td>40.390000</td>\n",
              "      <td>23.610200</td>\n",
              "      <td>79.019300</td>\n",
              "      <td>6.000000</td>\n",
              "      <td>6.000000</td>\n",
              "    </tr>\n",
              "    <tr>\n",
              "      <th>75%</th>\n",
              "      <td>16.755000</td>\n",
              "      <td>2.187869e+07</td>\n",
              "      <td>44.055000</td>\n",
              "      <td>27.278400</td>\n",
              "      <td>85.279900</td>\n",
              "      <td>8.000000</td>\n",
              "      <td>8.000000</td>\n",
              "    </tr>\n",
              "    <tr>\n",
              "      <th>max</th>\n",
              "      <td>75.850000</td>\n",
              "      <td>5.943376e+07</td>\n",
              "      <td>69.690000</td>\n",
              "      <td>33.778200</td>\n",
              "      <td>92.937600</td>\n",
              "      <td>10.000000</td>\n",
              "      <td>10.000000</td>\n",
              "    </tr>\n",
              "  </tbody>\n",
              "</table>\n",
              "</div>"
            ],
            "text/plain": [
              "       Estimated Unemployment Rate  Estimated Employed  ...       Month   Month_int\n",
              "count                   267.000000        2.670000e+02  ...  267.000000  267.000000\n",
              "mean                     12.236929        1.396211e+07  ...    5.546816    5.546816\n",
              "std                      10.803283        1.336632e+07  ...    2.857627    2.857627\n",
              "min                       0.500000        1.175420e+05  ...    1.000000    1.000000\n",
              "25%                       4.845000        2.838930e+06  ...    3.000000    3.000000\n",
              "50%                       9.650000        9.732417e+06  ...    6.000000    6.000000\n",
              "75%                      16.755000        2.187869e+07  ...    8.000000    8.000000\n",
              "max                      75.850000        5.943376e+07  ...   10.000000   10.000000\n",
              "\n",
              "[8 rows x 7 columns]"
            ]
          },
          "metadata": {
            "tags": []
          },
          "execution_count": 18
        }
      ]
    },
    {
      "cell_type": "code",
      "metadata": {
        "colab": {
          "base_uri": "https://localhost:8080/"
        },
        "id": "zXI9XlXi0jGq",
        "outputId": "fa2b50e6-4911-4b90-8ed4-20a6704099bb"
      },
      "source": [
        "dataset.isnull().sum()"
      ],
      "execution_count": null,
      "outputs": [
        {
          "output_type": "execute_result",
          "data": {
            "text/plain": [
              "Region                                      0\n",
              " Date                                       0\n",
              " Frequency                                  0\n",
              " Estimated Unemployment Rate (%)            0\n",
              " Estimated Employed                         0\n",
              " Estimated Labour Participation Rate (%)    0\n",
              "Region.1                                    0\n",
              "longitude                                   0\n",
              "latitude                                    0\n",
              "dtype: int64"
            ]
          },
          "metadata": {
            "tags": []
          },
          "execution_count": 9
        }
      ]
    },
    {
      "cell_type": "code",
      "metadata": {
        "id": "orTzRifM0nQq"
      },
      "source": [
        "dataset.columns =['States','Date','Frequency','Estimated Unemployment Rate','Estimated Employed','Estimated Labour Participation Rate','Region','longitude','latitude']\n"
      ],
      "execution_count": null,
      "outputs": []
    },
    {
      "cell_type": "code",
      "metadata": {
        "id": "2T6awYSE03P2"
      },
      "source": [
        "dataset['Date'] = pd.to_datetime(dataset['Date'],dayfirst=True)"
      ],
      "execution_count": null,
      "outputs": []
    },
    {
      "cell_type": "code",
      "metadata": {
        "id": "d5tSBe6jUFE4"
      },
      "source": [
        "dataset['Frequency']= dataset['Frequency'].astype('category')\n"
      ],
      "execution_count": null,
      "outputs": []
    },
    {
      "cell_type": "code",
      "metadata": {
        "id": "hB55TnLWCoSY"
      },
      "source": [
        "dataset['Month'] =  dataset['Date'].dt.month\n"
      ],
      "execution_count": null,
      "outputs": []
    },
    {
      "cell_type": "code",
      "metadata": {
        "id": "sSWzPeT0lpGb"
      },
      "source": [
        "dataset['Month_int'] = dataset['Month'].apply(lambda x : int(x))"
      ],
      "execution_count": null,
      "outputs": []
    },
    {
      "cell_type": "code",
      "metadata": {
        "id": "X5Uy56sVjLqf"
      },
      "source": [
        "dataset['Month_name'] =  dataset['Month_int'].apply(lambda x: calendar.month_abbr[x])"
      ],
      "execution_count": null,
      "outputs": []
    },
    {
      "cell_type": "code",
      "metadata": {
        "id": "lBfTs0DWjmi2"
      },
      "source": [
        "dataset['Region'] = dataset['Region'].astype('category')"
      ],
      "execution_count": null,
      "outputs": []
    },
    {
      "cell_type": "code",
      "metadata": {
        "colab": {
          "base_uri": "https://localhost:8080/",
          "height": 203
        },
        "id": "4KAGlMTklOCZ",
        "outputId": "c152dc52-15d8-4c2a-d5b6-480c050682a0"
      },
      "source": [
        "dataset.drop(columns='Month',inplace=True)\n",
        "dataset.head(3)"
      ],
      "execution_count": null,
      "outputs": [
        {
          "output_type": "execute_result",
          "data": {
            "text/html": [
              "<div>\n",
              "<style scoped>\n",
              "    .dataframe tbody tr th:only-of-type {\n",
              "        vertical-align: middle;\n",
              "    }\n",
              "\n",
              "    .dataframe tbody tr th {\n",
              "        vertical-align: top;\n",
              "    }\n",
              "\n",
              "    .dataframe thead th {\n",
              "        text-align: right;\n",
              "    }\n",
              "</style>\n",
              "<table border=\"1\" class=\"dataframe\">\n",
              "  <thead>\n",
              "    <tr style=\"text-align: right;\">\n",
              "      <th></th>\n",
              "      <th>States</th>\n",
              "      <th>Date</th>\n",
              "      <th>Frequency</th>\n",
              "      <th>Estimated Unemployment Rate</th>\n",
              "      <th>Estimated Employed</th>\n",
              "      <th>Estimated Labour Participation Rate</th>\n",
              "      <th>Region</th>\n",
              "      <th>longitude</th>\n",
              "      <th>latitude</th>\n",
              "      <th>Month_int</th>\n",
              "      <th>Month_name</th>\n",
              "    </tr>\n",
              "  </thead>\n",
              "  <tbody>\n",
              "    <tr>\n",
              "      <th>0</th>\n",
              "      <td>Andhra Pradesh</td>\n",
              "      <td>2020-03-31</td>\n",
              "      <td>M</td>\n",
              "      <td>5.48</td>\n",
              "      <td>16635535</td>\n",
              "      <td>41.02</td>\n",
              "      <td>South</td>\n",
              "      <td>15.9129</td>\n",
              "      <td>79.74</td>\n",
              "      <td>3</td>\n",
              "      <td>Mar</td>\n",
              "    </tr>\n",
              "    <tr>\n",
              "      <th>1</th>\n",
              "      <td>Andhra Pradesh</td>\n",
              "      <td>2020-03-29</td>\n",
              "      <td>M</td>\n",
              "      <td>5.83</td>\n",
              "      <td>16545652</td>\n",
              "      <td>40.90</td>\n",
              "      <td>South</td>\n",
              "      <td>15.9129</td>\n",
              "      <td>79.74</td>\n",
              "      <td>3</td>\n",
              "      <td>Mar</td>\n",
              "    </tr>\n",
              "    <tr>\n",
              "      <th>2</th>\n",
              "      <td>Andhra Pradesh</td>\n",
              "      <td>2020-03-31</td>\n",
              "      <td>M</td>\n",
              "      <td>5.79</td>\n",
              "      <td>15881197</td>\n",
              "      <td>39.18</td>\n",
              "      <td>South</td>\n",
              "      <td>15.9129</td>\n",
              "      <td>79.74</td>\n",
              "      <td>3</td>\n",
              "      <td>Mar</td>\n",
              "    </tr>\n",
              "  </tbody>\n",
              "</table>\n",
              "</div>"
            ],
            "text/plain": [
              "           States       Date Frequency  ...  latitude  Month_int  Month_name\n",
              "0  Andhra Pradesh 2020-03-31         M  ...     79.74          3         Mar\n",
              "1  Andhra Pradesh 2020-03-29         M  ...     79.74          3         Mar\n",
              "2  Andhra Pradesh 2020-03-31         M  ...     79.74          3         Mar\n",
              "\n",
              "[3 rows x 11 columns]"
            ]
          },
          "metadata": {
            "tags": []
          },
          "execution_count": 19
        }
      ]
    },
    {
      "cell_type": "code",
      "metadata": {
        "id": "57gwDxTGmIiN"
      },
      "source": [
        "dataset_stats = dataset[['Estimated Unemployment Rate',\n",
        "       'Estimated Employed', 'Estimated Labour Participation Rate']]\n"
      ],
      "execution_count": null,
      "outputs": []
    },
    {
      "cell_type": "code",
      "metadata": {
        "colab": {
          "base_uri": "https://localhost:8080/",
          "height": 136
        },
        "id": "KEsxgi1Nm7S9",
        "outputId": "6b227df4-0f66-4d34-ab80-62e56991670d"
      },
      "source": [
        "round(dataset_stats.describe().T,2)\n"
      ],
      "execution_count": null,
      "outputs": [
        {
          "output_type": "execute_result",
          "data": {
            "text/html": [
              "<div>\n",
              "<style scoped>\n",
              "    .dataframe tbody tr th:only-of-type {\n",
              "        vertical-align: middle;\n",
              "    }\n",
              "\n",
              "    .dataframe tbody tr th {\n",
              "        vertical-align: top;\n",
              "    }\n",
              "\n",
              "    .dataframe thead th {\n",
              "        text-align: right;\n",
              "    }\n",
              "</style>\n",
              "<table border=\"1\" class=\"dataframe\">\n",
              "  <thead>\n",
              "    <tr style=\"text-align: right;\">\n",
              "      <th></th>\n",
              "      <th>count</th>\n",
              "      <th>mean</th>\n",
              "      <th>std</th>\n",
              "      <th>min</th>\n",
              "      <th>25%</th>\n",
              "      <th>50%</th>\n",
              "      <th>75%</th>\n",
              "      <th>max</th>\n",
              "    </tr>\n",
              "  </thead>\n",
              "  <tbody>\n",
              "    <tr>\n",
              "      <th>Estimated Unemployment Rate</th>\n",
              "      <td>267.0</td>\n",
              "      <td>12.24</td>\n",
              "      <td>10.80</td>\n",
              "      <td>0.50</td>\n",
              "      <td>4.84</td>\n",
              "      <td>9.65</td>\n",
              "      <td>16.76</td>\n",
              "      <td>75.85</td>\n",
              "    </tr>\n",
              "    <tr>\n",
              "      <th>Estimated Employed</th>\n",
              "      <td>267.0</td>\n",
              "      <td>13962105.72</td>\n",
              "      <td>13366318.36</td>\n",
              "      <td>117542.00</td>\n",
              "      <td>2838930.50</td>\n",
              "      <td>9732417.00</td>\n",
              "      <td>21878686.00</td>\n",
              "      <td>59433759.00</td>\n",
              "    </tr>\n",
              "    <tr>\n",
              "      <th>Estimated Labour Participation Rate</th>\n",
              "      <td>267.0</td>\n",
              "      <td>41.68</td>\n",
              "      <td>7.85</td>\n",
              "      <td>16.77</td>\n",
              "      <td>37.26</td>\n",
              "      <td>40.39</td>\n",
              "      <td>44.06</td>\n",
              "      <td>69.69</td>\n",
              "    </tr>\n",
              "  </tbody>\n",
              "</table>\n",
              "</div>"
            ],
            "text/plain": [
              "                                     count  ...          max\n",
              "Estimated Unemployment Rate          267.0  ...        75.85\n",
              "Estimated Employed                   267.0  ...  59433759.00\n",
              "Estimated Labour Participation Rate  267.0  ...        69.69\n",
              "\n",
              "[3 rows x 8 columns]"
            ]
          },
          "metadata": {
            "tags": []
          },
          "execution_count": 24
        }
      ]
    },
    {
      "cell_type": "code",
      "metadata": {
        "id": "E9EzpbFfnWP9"
      },
      "source": [
        "region_stats = dataset.groupby(['Region'])[['Estimated Unemployment Rate','Estimated Employed','Estimated Labour Participation Rate']].mean().reset_index()"
      ],
      "execution_count": null,
      "outputs": []
    },
    {
      "cell_type": "code",
      "metadata": {
        "id": "7FHHXQAKnmTU"
      },
      "source": [
        "region_stats = round(region_stats,2)"
      ],
      "execution_count": null,
      "outputs": []
    },
    {
      "cell_type": "code",
      "metadata": {
        "colab": {
          "base_uri": "https://localhost:8080/",
          "height": 195
        },
        "id": "PcVrvCGBnsC5",
        "outputId": "30e94af4-0160-4ab3-99cf-a86bb0670852"
      },
      "source": [
        "region_stats"
      ],
      "execution_count": null,
      "outputs": [
        {
          "output_type": "execute_result",
          "data": {
            "text/html": [
              "<div>\n",
              "<style scoped>\n",
              "    .dataframe tbody tr th:only-of-type {\n",
              "        vertical-align: middle;\n",
              "    }\n",
              "\n",
              "    .dataframe tbody tr th {\n",
              "        vertical-align: top;\n",
              "    }\n",
              "\n",
              "    .dataframe thead th {\n",
              "        text-align: right;\n",
              "    }\n",
              "</style>\n",
              "<table border=\"1\" class=\"dataframe\">\n",
              "  <thead>\n",
              "    <tr style=\"text-align: right;\">\n",
              "      <th></th>\n",
              "      <th>Region</th>\n",
              "      <th>Estimated Unemployment Rate</th>\n",
              "      <th>Estimated Employed</th>\n",
              "      <th>Estimated Labour Participation Rate</th>\n",
              "    </tr>\n",
              "  </thead>\n",
              "  <tbody>\n",
              "    <tr>\n",
              "      <th>0</th>\n",
              "      <td>East</td>\n",
              "      <td>13.92</td>\n",
              "      <td>19602366.90</td>\n",
              "      <td>40.11</td>\n",
              "    </tr>\n",
              "    <tr>\n",
              "      <th>1</th>\n",
              "      <td>North</td>\n",
              "      <td>15.89</td>\n",
              "      <td>13072487.92</td>\n",
              "      <td>38.70</td>\n",
              "    </tr>\n",
              "    <tr>\n",
              "      <th>2</th>\n",
              "      <td>Northeast</td>\n",
              "      <td>10.95</td>\n",
              "      <td>3617105.53</td>\n",
              "      <td>52.06</td>\n",
              "    </tr>\n",
              "    <tr>\n",
              "      <th>3</th>\n",
              "      <td>South</td>\n",
              "      <td>10.45</td>\n",
              "      <td>14040589.33</td>\n",
              "      <td>40.44</td>\n",
              "    </tr>\n",
              "    <tr>\n",
              "      <th>4</th>\n",
              "      <td>West</td>\n",
              "      <td>8.24</td>\n",
              "      <td>18623512.72</td>\n",
              "      <td>41.26</td>\n",
              "    </tr>\n",
              "  </tbody>\n",
              "</table>\n",
              "</div>"
            ],
            "text/plain": [
              "      Region  ...  Estimated Labour Participation Rate\n",
              "0       East  ...                                40.11\n",
              "1      North  ...                                38.70\n",
              "2  Northeast  ...                                52.06\n",
              "3      South  ...                                40.44\n",
              "4       West  ...                                41.26\n",
              "\n",
              "[5 rows x 4 columns]"
            ]
          },
          "metadata": {
            "tags": []
          },
          "execution_count": 27
        }
      ]
    },
    {
      "cell_type": "code",
      "metadata": {
        "colab": {
          "base_uri": "https://localhost:8080/",
          "height": 295
        },
        "id": "abQ3BHGnn_gH",
        "outputId": "31c947a4-4809-41df-be15-df99fc106b47"
      },
      "source": [
        "sns.countplot(x='Region',data=dataset)\n",
        "\n",
        "plt.title(\"Region\")\n",
        "\n",
        "plt.show()"
      ],
      "execution_count": null,
      "outputs": [
        {
          "output_type": "display_data",
          "data": {
            "image/png": "[encoded data removed]",
            "text/plain": [
              "<Figure size 432x288 with 1 Axes>"
            ]
          },
          "metadata": {
            "tags": [],
            "needs_background": "light"
          }
        }
      ]
    },
    {
      "cell_type": "code",
      "metadata": {
        "id": "o37HV1zrok7N"
      },
      "source": [
        "\n"
      ],
      "execution_count": 6,
      "outputs": []
    },
    {
      "cell_type": "code",
      "metadata": {
        "id": "8RgWP0mTtRS3"
      },
      "source": [
        ""
      ],
      "execution_count": 6,
      "outputs": []
    },
    {
      "cell_type": "code",
      "metadata": {
        "id": "9Paw90M1o8DU"
      },
      "source": [
        ""
      ],
      "execution_count": null,
      "outputs": []
    }
  ]
}